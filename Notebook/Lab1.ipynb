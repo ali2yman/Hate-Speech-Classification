{
 "cells": [
  {
   "cell_type": "markdown",
   "metadata": {
    "id": "ySsIPBRiorxK"
   },
   "source": [
    "**Dataset**\n",
    "labeled datasset collected from twitter (Lab 1 - Hate Speech.tsv)\n",
    "\n",
    "**Objective**\n",
    "classify tweets containing hate speech from other tweets. <br>\n",
    "0 -> no hate speech <br>\n",
    "1 -> contains hate speech <br>\n",
    "\n",
    "\n",
    "**Evaluation metric**\n",
    "macro f1 score"
   ]
  },
  {
   "cell_type": "markdown",
   "metadata": {
    "id": "v-6lrKz6orxT"
   },
   "source": [
    "### Import used libraries"
   ]
  },
  {
   "cell_type": "code",
   "execution_count": 1,
   "metadata": {
    "id": "eXUPo3g4orxV"
   },
   "outputs": [],
   "source": [
    "import pandas as pd\n",
    "import unicodedata\n",
    "import matplotlib.pyplot as plt\n",
    "import seaborn as sns\n",
    "# Useful when you're working with a large dataset and want to \n",
    "# see more of it without it being cut off.\n",
    "pd.set_option('display.max_rows', 500)\n",
    "# This tells pandas to show up to 500 characters in each column's cell (especially useful for columns with long text or URLs)\n",
    "pd.set_option('display.max_colwidth', 500)\n",
    "from sklearn.model_selection import train_test_split\n",
    "import plotly.express as px\n",
    "from nltk.corpus import stopwords\n",
    "import regex as re\n",
    "import emoji\n",
    "import nltk\n",
    "from nltk.corpus import stopwords, wordnet\n",
    "from nltk.tokenize import word_tokenize\n",
    "from nltk.stem import WordNetLemmatizer\n",
    "# # Make sure you have downloaded the required NLTK data\n",
    "# nltk.download('punkt')\n",
    "# nltk.download('stopwords')\n",
    "# nltk.download('wordnet')\n",
    "# nltk.download('omw-1.4')"
   ]
  },
  {
   "cell_type": "markdown",
   "metadata": {
    "id": "fG8MkuvjorxX"
   },
   "source": [
    "### Load Dataset"
   ]
  },
  {
   "cell_type": "markdown",
   "metadata": {},
   "source": [
    "###### Note: The difference between csv (comma separated value) and tsv (Tap separated value) file"
   ]
  },
  {
   "cell_type": "code",
   "execution_count": 2,
   "metadata": {
    "id": "BYeqhp66orxY"
   },
   "outputs": [
    {
     "data": {
      "application/vnd.microsoft.datawrangler.viewer.v0+json": {
       "columns": [
        {
         "name": "id",
         "rawType": "int64",
         "type": "integer"
        },
        {
         "name": "label",
         "rawType": "int64",
         "type": "integer"
        },
        {
         "name": "tweet",
         "rawType": "object",
         "type": "string"
        }
       ],
       "conversionMethod": "pd.DataFrame",
       "ref": "53e7ae9f-69b0-485d-938e-e1467b6b3ce7",
       "rows": [
        [
         "1",
         "0",
         "@user when a father is dysfunctional and is so selfish he drags his kids into his dysfunction.   #run"
        ],
        [
         "2",
         "0",
         "@user @user thanks for #lyft credit i can't use cause they don't offer wheelchair vans in pdx.    #disapointed #getthanked"
        ],
        [
         "3",
         "0",
         "bihday your majesty"
        ],
        [
         "4",
         "0",
         "#model   i love u take with u all the time in urð±!!! ððððð¦ð¦ð¦"
        ],
        [
         "5",
         "0",
         "factsguide: society now    #motivation"
        ],
        [
         "6",
         "0",
         "[2/2] huge fan fare and big talking before they leave. chaos and pay disputes when they get there. #allshowandnogo"
        ],
        [
         "7",
         "0",
         "@user camping tomorrow @user @user @user @user @user @user @user dannyâ¦"
        ],
        [
         "8",
         "0",
         "the next school year is the year for exams.ð¯ can't think about that ð­ #school #exams   #hate #imagine #actorslife #revolutionschool #girl"
        ],
        [
         "9",
         "0",
         "we won!!! love the land!!! #allin #cavs #champions #cleveland #clevelandcavaliers  â¦"
        ],
        [
         "10",
         "0",
         "@user @user welcome here !  i'm   it's so #gr8 !"
        ],
        [
         "11",
         "0",
         "â #ireland consumer price index (mom) climbed from previous 0.2% to 0.5% in may   #blog #silver #gold #forex"
        ],
        [
         "12",
         "0",
         "we are so selfish. #orlando #standwithorlando #pulseshooting #orlandoshooting #biggerproblems #selfish #heabreaking   #values #love #"
        ],
        [
         "13",
         "0",
         "i get to see my daddy today!!   #80days #gettingfed"
        ],
        [
         "14",
         "1",
         "@user #cnn calls #michigan middle school 'build the wall' chant '' #tcot"
        ],
        [
         "15",
         "1",
         "no comment!  in #australia   #opkillingbay #seashepherd #helpcovedolphins #thecove  #helpcovedolphins"
        ],
        [
         "16",
         "0",
         "ouch...junior is angryð#got7 #junior #yugyoem   #omg"
        ],
        [
         "17",
         "0",
         "i am thankful for having a paner. #thankful #positive"
        ],
        [
         "18",
         "1",
         "retweet if you agree!"
        ],
        [
         "19",
         "0",
         "its #friday! ð smiles all around via ig user: @user #cookies make people"
        ],
        [
         "20",
         "0",
         "as we all know, essential oils are not made of chemicals. "
        ],
        [
         "21",
         "0",
         "#euro2016 people blaming ha for conceded goal was it fat rooney who gave away free kick knowing bale can hit them from there."
        ],
        [
         "22",
         "0",
         "sad little dude..   #badday #coneofshame #cats #pissed #funny #laughs"
        ],
        [
         "23",
         "0",
         "product of the day: happy man #wine tool  who's   it's the #weekend? time to open up &amp; drink up!"
        ],
        [
         "24",
         "1",
         "@user @user lumpy says i am a . prove it lumpy."
        ],
        [
         "25",
         "0",
         "@user #tgif   #ff to my #gamedev #indiedev #indiegamedev #squad! @user @user @user @user @user"
        ],
        [
         "26",
         "0",
         "beautiful sign by vendor 80 for $45.00!! #upsideofflorida #shopalyssas   #love"
        ],
        [
         "27",
         "0",
         "@user all #smiles when #media is   !! ðð #pressconference in #antalya #turkey ! sunday #throwback  love! ððâ¤ï¸"
        ],
        [
         "28",
         "0",
         "we had a great panel on the mediatization of the public service   #ica16"
        ],
        [
         "29",
         "0",
         "happy father's day @user ðððð"
        ],
        [
         "30",
         "0",
         "50 people went to nightclub to have a good night and 1 man's actions means those people are lost to their families forever #rip#orlando"
        ],
        [
         "31",
         "0",
         "i have never had a chance to vote for a presidential candidate i was excited about and this cycle looks to be no different."
        ],
        [
         "32",
         "0",
         "#alohafriday #time does #not #exist #positivevibes #hawaiian @user @user @user @user"
        ],
        [
         "33",
         "0",
         " @user rip to the fellow nohern ireland fan who sadley passed away tonight!.. gawa, forever singing and cheering on fire  "
        ],
        [
         "34",
         "0",
         "it was a hard monday due to cloudy weather. disabling oxygen production for today. #goodnight #badmonday"
        ],
        [
         "35",
         "1",
         "it's unbelievable that in the 21st century we'd need something like this. again. #neverump  #xenophobia"
        ],
        [
         "36",
         "0",
         "#taylorswift1989   bull up: you will dominate your bull and you will direct it whatever you want it to do. w"
        ],
        [
         "37",
         "0",
         "morning~~ #travelingram #dalat   #ripinkylife"
        ],
        [
         "38",
         "0",
         "@user once more only one word tells it all: #photoshop.  #enoughisenough #dontphotoshopeverything #wheresallthenaturalphotos"
        ],
        [
         "39",
         "0",
         "oh, #cedarpoint. waited 2 hours in the valravn line and it stopped working. we were so close.  "
        ],
        [
         "40",
         "0",
         "i am thankful for sunshine. #thankful #positive"
        ],
        [
         "41",
         "0",
         "when you finally finish a book you've been working on for awhile...  #bookworm #ontothenextnovel"
        ],
        [
         "42",
         "0",
         "yup, being a knicks fan is hard, so its easier to just be an nba fan when the playoffs roll around ð "
        ],
        [
         "43",
         "0",
         "there is life after social networking. embrace each day. be"
        ],
        [
         "44",
         "0",
         "my mom shares the same bihday as @user   bihday snake! see you this weekend ðð¼"
        ],
        [
         "45",
         "0",
         "lovely echeveria blooms#flowers #grow #gardening #iphonesia #bliss #blooms #basilicabotanica"
        ],
        [
         "46",
         "0",
         "i am amazing. #i_am #positive #affirmation"
        ],
        [
         "47",
         "0",
         "#model   i love u take with u all the time in urð±!!! ððððð¦ð¦ð¦"
        ],
        [
         "48",
         "0",
         "#whenever im   and #something goes #wrong  |"
        ],
        [
         "49",
         "0",
         "feeling blue #illustration"
        ],
        [
         "50",
         "0",
         "the best pa about life is knowing who you are! ðâï¸ð¼ð»  â¦"
        ]
       ],
       "shape": {
        "columns": 2,
        "rows": 100
       }
      },
      "text/html": [
       "<div>\n",
       "<style scoped>\n",
       "    .dataframe tbody tr th:only-of-type {\n",
       "        vertical-align: middle;\n",
       "    }\n",
       "\n",
       "    .dataframe tbody tr th {\n",
       "        vertical-align: top;\n",
       "    }\n",
       "\n",
       "    .dataframe thead th {\n",
       "        text-align: right;\n",
       "    }\n",
       "</style>\n",
       "<table border=\"1\" class=\"dataframe\">\n",
       "  <thead>\n",
       "    <tr style=\"text-align: right;\">\n",
       "      <th></th>\n",
       "      <th>label</th>\n",
       "      <th>tweet</th>\n",
       "    </tr>\n",
       "    <tr>\n",
       "      <th>id</th>\n",
       "      <th></th>\n",
       "      <th></th>\n",
       "    </tr>\n",
       "  </thead>\n",
       "  <tbody>\n",
       "    <tr>\n",
       "      <th>1</th>\n",
       "      <td>0</td>\n",
       "      <td>@user when a father is dysfunctional and is so selfish he drags his kids into his dysfunction.   #run</td>\n",
       "    </tr>\n",
       "    <tr>\n",
       "      <th>2</th>\n",
       "      <td>0</td>\n",
       "      <td>@user @user thanks for #lyft credit i can't use cause they don't offer wheelchair vans in pdx.    #disapointed #getthanked</td>\n",
       "    </tr>\n",
       "    <tr>\n",
       "      <th>3</th>\n",
       "      <td>0</td>\n",
       "      <td>bihday your majesty</td>\n",
       "    </tr>\n",
       "    <tr>\n",
       "      <th>4</th>\n",
       "      <td>0</td>\n",
       "      <td>#model   i love u take with u all the time in urð±!!! ððððð¦ð¦ð¦</td>\n",
       "    </tr>\n",
       "    <tr>\n",
       "      <th>5</th>\n",
       "      <td>0</td>\n",
       "      <td>factsguide: society now    #motivation</td>\n",
       "    </tr>\n",
       "    <tr>\n",
       "      <th>6</th>\n",
       "      <td>0</td>\n",
       "      <td>[2/2] huge fan fare and big talking before they leave. chaos and pay disputes when they get there. #allshowandnogo</td>\n",
       "    </tr>\n",
       "    <tr>\n",
       "      <th>7</th>\n",
       "      <td>0</td>\n",
       "      <td>@user camping tomorrow @user @user @user @user @user @user @user dannyâ¦</td>\n",
       "    </tr>\n",
       "    <tr>\n",
       "      <th>8</th>\n",
       "      <td>0</td>\n",
       "      <td>the next school year is the year for exams.ð¯ can't think about that ð­ #school #exams   #hate #imagine #actorslife #revolutionschool #girl</td>\n",
       "    </tr>\n",
       "    <tr>\n",
       "      <th>9</th>\n",
       "      <td>0</td>\n",
       "      <td>we won!!! love the land!!! #allin #cavs #champions #cleveland #clevelandcavaliers  â¦</td>\n",
       "    </tr>\n",
       "    <tr>\n",
       "      <th>10</th>\n",
       "      <td>0</td>\n",
       "      <td>@user @user welcome here !  i'm   it's so #gr8 !</td>\n",
       "    </tr>\n",
       "    <tr>\n",
       "      <th>11</th>\n",
       "      <td>0</td>\n",
       "      <td>â #ireland consumer price index (mom) climbed from previous 0.2% to 0.5% in may   #blog #silver #gold #forex</td>\n",
       "    </tr>\n",
       "    <tr>\n",
       "      <th>12</th>\n",
       "      <td>0</td>\n",
       "      <td>we are so selfish. #orlando #standwithorlando #pulseshooting #orlandoshooting #biggerproblems #selfish #heabreaking   #values #love #</td>\n",
       "    </tr>\n",
       "    <tr>\n",
       "      <th>13</th>\n",
       "      <td>0</td>\n",
       "      <td>i get to see my daddy today!!   #80days #gettingfed</td>\n",
       "    </tr>\n",
       "    <tr>\n",
       "      <th>14</th>\n",
       "      <td>1</td>\n",
       "      <td>@user #cnn calls #michigan middle school 'build the wall' chant '' #tcot</td>\n",
       "    </tr>\n",
       "    <tr>\n",
       "      <th>15</th>\n",
       "      <td>1</td>\n",
       "      <td>no comment!  in #australia   #opkillingbay #seashepherd #helpcovedolphins #thecove  #helpcovedolphins</td>\n",
       "    </tr>\n",
       "    <tr>\n",
       "      <th>16</th>\n",
       "      <td>0</td>\n",
       "      <td>ouch...junior is angryð#got7 #junior #yugyoem   #omg</td>\n",
       "    </tr>\n",
       "    <tr>\n",
       "      <th>17</th>\n",
       "      <td>0</td>\n",
       "      <td>i am thankful for having a paner. #thankful #positive</td>\n",
       "    </tr>\n",
       "    <tr>\n",
       "      <th>18</th>\n",
       "      <td>1</td>\n",
       "      <td>retweet if you agree!</td>\n",
       "    </tr>\n",
       "    <tr>\n",
       "      <th>19</th>\n",
       "      <td>0</td>\n",
       "      <td>its #friday! ð smiles all around via ig user: @user #cookies make people</td>\n",
       "    </tr>\n",
       "    <tr>\n",
       "      <th>20</th>\n",
       "      <td>0</td>\n",
       "      <td>as we all know, essential oils are not made of chemicals.</td>\n",
       "    </tr>\n",
       "    <tr>\n",
       "      <th>21</th>\n",
       "      <td>0</td>\n",
       "      <td>#euro2016 people blaming ha for conceded goal was it fat rooney who gave away free kick knowing bale can hit them from there.</td>\n",
       "    </tr>\n",
       "    <tr>\n",
       "      <th>22</th>\n",
       "      <td>0</td>\n",
       "      <td>sad little dude..   #badday #coneofshame #cats #pissed #funny #laughs</td>\n",
       "    </tr>\n",
       "    <tr>\n",
       "      <th>23</th>\n",
       "      <td>0</td>\n",
       "      <td>product of the day: happy man #wine tool  who's   it's the #weekend? time to open up &amp;amp; drink up!</td>\n",
       "    </tr>\n",
       "    <tr>\n",
       "      <th>24</th>\n",
       "      <td>1</td>\n",
       "      <td>@user @user lumpy says i am a . prove it lumpy.</td>\n",
       "    </tr>\n",
       "    <tr>\n",
       "      <th>25</th>\n",
       "      <td>0</td>\n",
       "      <td>@user #tgif   #ff to my #gamedev #indiedev #indiegamedev #squad! @user @user @user @user @user</td>\n",
       "    </tr>\n",
       "    <tr>\n",
       "      <th>26</th>\n",
       "      <td>0</td>\n",
       "      <td>beautiful sign by vendor 80 for $45.00!! #upsideofflorida #shopalyssas   #love</td>\n",
       "    </tr>\n",
       "    <tr>\n",
       "      <th>27</th>\n",
       "      <td>0</td>\n",
       "      <td>@user all #smiles when #media is   !! ðð #pressconference in #antalya #turkey ! sunday #throwback  love! ððâ¤ï¸</td>\n",
       "    </tr>\n",
       "    <tr>\n",
       "      <th>28</th>\n",
       "      <td>0</td>\n",
       "      <td>we had a great panel on the mediatization of the public service   #ica16</td>\n",
       "    </tr>\n",
       "    <tr>\n",
       "      <th>29</th>\n",
       "      <td>0</td>\n",
       "      <td>happy father's day @user ðððð</td>\n",
       "    </tr>\n",
       "    <tr>\n",
       "      <th>30</th>\n",
       "      <td>0</td>\n",
       "      <td>50 people went to nightclub to have a good night and 1 man's actions means those people are lost to their families forever #rip#orlando</td>\n",
       "    </tr>\n",
       "    <tr>\n",
       "      <th>31</th>\n",
       "      <td>0</td>\n",
       "      <td>i have never had a chance to vote for a presidential candidate i was excited about and this cycle looks to be no different.</td>\n",
       "    </tr>\n",
       "    <tr>\n",
       "      <th>32</th>\n",
       "      <td>0</td>\n",
       "      <td>#alohafriday #time does #not #exist #positivevibes #hawaiian @user @user @user @user</td>\n",
       "    </tr>\n",
       "    <tr>\n",
       "      <th>33</th>\n",
       "      <td>0</td>\n",
       "      <td>@user rip to the fellow nohern ireland fan who sadley passed away tonight!.. gawa, forever singing and cheering on fire</td>\n",
       "    </tr>\n",
       "    <tr>\n",
       "      <th>34</th>\n",
       "      <td>0</td>\n",
       "      <td>it was a hard monday due to cloudy weather. disabling oxygen production for today. #goodnight #badmonday</td>\n",
       "    </tr>\n",
       "    <tr>\n",
       "      <th>35</th>\n",
       "      <td>1</td>\n",
       "      <td>it's unbelievable that in the 21st century we'd need something like this. again. #neverump  #xenophobia</td>\n",
       "    </tr>\n",
       "    <tr>\n",
       "      <th>36</th>\n",
       "      <td>0</td>\n",
       "      <td>#taylorswift1989   bull up: you will dominate your bull and you will direct it whatever you want it to do. w</td>\n",
       "    </tr>\n",
       "    <tr>\n",
       "      <th>37</th>\n",
       "      <td>0</td>\n",
       "      <td>morning~~ #travelingram #dalat   #ripinkylife</td>\n",
       "    </tr>\n",
       "    <tr>\n",
       "      <th>38</th>\n",
       "      <td>0</td>\n",
       "      <td>@user once more only one word tells it all: #photoshop.  #enoughisenough #dontphotoshopeverything #wheresallthenaturalphotos</td>\n",
       "    </tr>\n",
       "    <tr>\n",
       "      <th>39</th>\n",
       "      <td>0</td>\n",
       "      <td>oh, #cedarpoint. waited 2 hours in the valravn line and it stopped working. we were so close.</td>\n",
       "    </tr>\n",
       "    <tr>\n",
       "      <th>40</th>\n",
       "      <td>0</td>\n",
       "      <td>i am thankful for sunshine. #thankful #positive</td>\n",
       "    </tr>\n",
       "    <tr>\n",
       "      <th>41</th>\n",
       "      <td>0</td>\n",
       "      <td>when you finally finish a book you've been working on for awhile...  #bookworm #ontothenextnovel</td>\n",
       "    </tr>\n",
       "    <tr>\n",
       "      <th>42</th>\n",
       "      <td>0</td>\n",
       "      <td>yup, being a knicks fan is hard, so its easier to just be an nba fan when the playoffs roll around ð</td>\n",
       "    </tr>\n",
       "    <tr>\n",
       "      <th>43</th>\n",
       "      <td>0</td>\n",
       "      <td>there is life after social networking. embrace each day. be</td>\n",
       "    </tr>\n",
       "    <tr>\n",
       "      <th>44</th>\n",
       "      <td>0</td>\n",
       "      <td>my mom shares the same bihday as @user   bihday snake! see you this weekend ðð¼</td>\n",
       "    </tr>\n",
       "    <tr>\n",
       "      <th>45</th>\n",
       "      <td>0</td>\n",
       "      <td>lovely echeveria blooms#flowers #grow #gardening #iphonesia #bliss #blooms #basilicabotanica</td>\n",
       "    </tr>\n",
       "    <tr>\n",
       "      <th>46</th>\n",
       "      <td>0</td>\n",
       "      <td>i am amazing. #i_am #positive #affirmation</td>\n",
       "    </tr>\n",
       "    <tr>\n",
       "      <th>47</th>\n",
       "      <td>0</td>\n",
       "      <td>#model   i love u take with u all the time in urð±!!! ððððð¦ð¦ð¦</td>\n",
       "    </tr>\n",
       "    <tr>\n",
       "      <th>48</th>\n",
       "      <td>0</td>\n",
       "      <td>#whenever im   and #something goes #wrong  |</td>\n",
       "    </tr>\n",
       "    <tr>\n",
       "      <th>49</th>\n",
       "      <td>0</td>\n",
       "      <td>feeling blue #illustration</td>\n",
       "    </tr>\n",
       "    <tr>\n",
       "      <th>50</th>\n",
       "      <td>0</td>\n",
       "      <td>the best pa about life is knowing who you are! ðâï¸ð¼ð»  â¦</td>\n",
       "    </tr>\n",
       "    <tr>\n",
       "      <th>51</th>\n",
       "      <td>0</td>\n",
       "      <td>#abc2020 getting ready 2 remove the victums frm #pulseclub #prayfororlando</td>\n",
       "    </tr>\n",
       "    <tr>\n",
       "      <th>52</th>\n",
       "      <td>0</td>\n",
       "      <td>for her #bihday we got her a #nose #job @user  ðð¶ððð    #bihday #petunia we love you ð</td>\n",
       "    </tr>\n",
       "    <tr>\n",
       "      <th>53</th>\n",
       "      <td>0</td>\n",
       "      <td>off to concelebrate at the #albanpilgrimage for the first time.   @user</td>\n",
       "    </tr>\n",
       "    <tr>\n",
       "      <th>54</th>\n",
       "      <td>0</td>\n",
       "      <td>@user let the scum-baggery begin.....</td>\n",
       "    </tr>\n",
       "    <tr>\n",
       "      <th>55</th>\n",
       "      <td>0</td>\n",
       "      <td>thank you! ðð super love it! â¤ï¸ zpamdelacruz   #wedding# @ dolores, capas tarlac.</td>\n",
       "    </tr>\n",
       "    <tr>\n",
       "      <th>56</th>\n",
       "      <td>0</td>\n",
       "      <td>a scourge on those playing baroque pieces on piano    beyond belief</td>\n",
       "    </tr>\n",
       "    <tr>\n",
       "      <th>57</th>\n",
       "      <td>1</td>\n",
       "      <td>@user lets fight against  #love #peace</td>\n",
       "    </tr>\n",
       "    <tr>\n",
       "      <th>58</th>\n",
       "      <td>0</td>\n",
       "      <td>happy fatherâs day, mr. rayos #video   #fathers #day #rayos #world #hotvideo #videos</td>\n",
       "    </tr>\n",
       "    <tr>\n",
       "      <th>59</th>\n",
       "      <td>0</td>\n",
       "      <td>@user ascot times with this babe â¤ï¸â¤ï¸ #ascot #fashion #monochrome #style   #instahappyday</td>\n",
       "    </tr>\n",
       "    <tr>\n",
       "      <th>60</th>\n",
       "      <td>0</td>\n",
       "      <td>the weekend..is here!!ððððð #selfie   #yolo #xoxo #like4like</td>\n",
       "    </tr>\n",
       "    <tr>\n",
       "      <th>61</th>\n",
       "      <td>0</td>\n",
       "      <td>happy at work conference: right' mindset leads to culture-of-development organizations    #work #mindset</td>\n",
       "    </tr>\n",
       "    <tr>\n",
       "      <th>62</th>\n",
       "      <td>0</td>\n",
       "      <td>christina grimmie's  last performance before being shot...  via @user #christinarip #voice #christinagrimmie</td>\n",
       "    </tr>\n",
       "    <tr>\n",
       "      <th>63</th>\n",
       "      <td>0</td>\n",
       "      <td>we are ready to dance #roar #preschoolers   #students #proudâ¦</td>\n",
       "    </tr>\n",
       "    <tr>\n",
       "      <th>64</th>\n",
       "      <td>0</td>\n",
       "      <td>you've really hu my feelings :(</td>\n",
       "    </tr>\n",
       "    <tr>\n",
       "      <th>65</th>\n",
       "      <td>0</td>\n",
       "      <td>@user my wife whom i adore had to miss your poland show because she had surgery. her name is bridget &amp;amp; she's my everything.</td>\n",
       "    </tr>\n",
       "    <tr>\n",
       "      <th>66</th>\n",
       "      <td>0</td>\n",
       "      <td>@user i am so jealous of you right now.... #chatiado</td>\n",
       "    </tr>\n",
       "    <tr>\n",
       "      <th>67</th>\n",
       "      <td>0</td>\n",
       "      <td>i celebrate every man that has played it's fatherly role.   father's day#</td>\n",
       "    </tr>\n",
       "    <tr>\n",
       "      <th>68</th>\n",
       "      <td>0</td>\n",
       "      <td>i'm sure they are just as happy.... ðð½ðð½ðð½   hour</td>\n",
       "    </tr>\n",
       "    <tr>\n",
       "      <th>69</th>\n",
       "      <td>1</td>\n",
       "      <td>ð©the white establishment can't have blk folx running around loving themselves and promoting our greatness</td>\n",
       "    </tr>\n",
       "    <tr>\n",
       "      <th>70</th>\n",
       "      <td>0</td>\n",
       "      <td>good morning! the journey begins! ððð»ð³   #travel #yeah #thejourneybegins #helloâ¦</td>\n",
       "    </tr>\n",
       "    <tr>\n",
       "      <th>71</th>\n",
       "      <td>0</td>\n",
       "      <td>@user # if you #luv #hottweets like this from â¶ â¥#venusexchangeâ¥</td>\n",
       "    </tr>\n",
       "    <tr>\n",
       "      <th>72</th>\n",
       "      <td>0</td>\n",
       "      <td>our new brochures have arrived! how exciting!! #aworks #solutions</td>\n",
       "    </tr>\n",
       "    <tr>\n",
       "      <th>73</th>\n",
       "      <td>0</td>\n",
       "      <td>so much stuff happening in florida! first #orlando shooting and now #disneygatorattack on a two year old kidð¥ð</td>\n",
       "    </tr>\n",
       "    <tr>\n",
       "      <th>74</th>\n",
       "      <td>0</td>\n",
       "      <td>@user ferrari will do itðªð¼ for the sake of the championship. this gp is clearly a turning point rb, ferrari,mercs...ð</td>\n",
       "    </tr>\n",
       "    <tr>\n",
       "      <th>75</th>\n",
       "      <td>0</td>\n",
       "      <td>aced my first test!   #proud</td>\n",
       "    </tr>\n",
       "    <tr>\n",
       "      <th>76</th>\n",
       "      <td>0</td>\n",
       "      <td>seeks probe into #udtapunjab' leak, points finger at #amarinder, #aap</td>\n",
       "    </tr>\n",
       "    <tr>\n",
       "      <th>77</th>\n",
       "      <td>0</td>\n",
       "      <td>@user wrapping up #senseaboutmaths @user 6th   @user @user @user</td>\n",
       "    </tr>\n",
       "    <tr>\n",
       "      <th>78</th>\n",
       "      <td>1</td>\n",
       "      <td>@user hey, white people: you can call people 'white' by @user  #race  #identity #medâ¦</td>\n",
       "    </tr>\n",
       "    <tr>\n",
       "      <th>79</th>\n",
       "      <td>0</td>\n",
       "      <td>@user @user you might be. just have not shown here today. regurgitated talking points and name calling?</td>\n",
       "    </tr>\n",
       "    <tr>\n",
       "      <th>80</th>\n",
       "      <td>0</td>\n",
       "      <td>sometimes you have to raise a few brows to raise the bar. #golfstrengthandconditioning   #strong #felixfoisgolf</td>\n",
       "    </tr>\n",
       "    <tr>\n",
       "      <th>81</th>\n",
       "      <td>0</td>\n",
       "      <td>about that ððð #greathonour #careerconvos @user @user</td>\n",
       "    </tr>\n",
       "    <tr>\n",
       "      <th>82</th>\n",
       "      <td>0</td>\n",
       "      <td>@user designing #innovative learning space @user to include #wateringhole #cave #mountaintop #campfire @user   hâ¦</td>\n",
       "    </tr>\n",
       "    <tr>\n",
       "      <th>83</th>\n",
       "      <td>1</td>\n",
       "      <td>how the #altright uses  &amp;amp; insecurity to lure men into #whitesupremacy</td>\n",
       "    </tr>\n",
       "    <tr>\n",
       "      <th>84</th>\n",
       "      <td>0</td>\n",
       "      <td>carrying a gun wouldn't of helped if you can't take it in with you. gun control won't stop the black market! terrorism will get worse!</td>\n",
       "    </tr>\n",
       "    <tr>\n",
       "      <th>85</th>\n",
       "      <td>0</td>\n",
       "      <td>use the power of your mind to #heal your body!! -     #altwaystoheal #healthy   #peace!</td>\n",
       "    </tr>\n",
       "    <tr>\n",
       "      <th>86</th>\n",
       "      <td>0</td>\n",
       "      <td>woohoo!! just over 5 weeks to go!</td>\n",
       "    </tr>\n",
       "    <tr>\n",
       "      <th>87</th>\n",
       "      <td>0</td>\n",
       "      <td>being in a far away place where you have no family members hus</td>\n",
       "    </tr>\n",
       "    <tr>\n",
       "      <th>88</th>\n",
       "      <td>0</td>\n",
       "      <td>ready to rehearse tonight with new music and new videos, look out for the announcement! #midweek #newmusic #watchthisspace #guitar</td>\n",
       "    </tr>\n",
       "    <tr>\n",
       "      <th>89</th>\n",
       "      <td>0</td>\n",
       "      <td>now on monday nights at 8pm on #up channel!!!! i finally get to see what all the fuss is about!!!</td>\n",
       "    </tr>\n",
       "    <tr>\n",
       "      <th>90</th>\n",
       "      <td>0</td>\n",
       "      <td>watching the new episodes of @user on @user</td>\n",
       "    </tr>\n",
       "    <tr>\n",
       "      <th>91</th>\n",
       "      <td>0</td>\n",
       "      <td>@user offline now after a very nice and long night.. ð #snapchat @user   #redhead #vermillionred</td>\n",
       "    </tr>\n",
       "    <tr>\n",
       "      <th>92</th>\n",
       "      <td>0</td>\n",
       "      <td>15 things incredibly   #people do</td>\n",
       "    </tr>\n",
       "    <tr>\n",
       "      <th>93</th>\n",
       "      <td>0</td>\n",
       "      <td>yes! received my acceptance letter for my masters so will be back at @user again in october!    #goodtimes #history</td>\n",
       "    </tr>\n",
       "    <tr>\n",
       "      <th>94</th>\n",
       "      <td>0</td>\n",
       "      <td>daughter riding her bike around driveway, son playing his guitar for us while we enjoy ðº by the campfire... #summeime   #memories</td>\n",
       "    </tr>\n",
       "    <tr>\n",
       "      <th>95</th>\n",
       "      <td>0</td>\n",
       "      <td>omg!!! loving this station!!! way to jam out at work!!! while getting work done of course!!!!   #memories @user</td>\n",
       "    </tr>\n",
       "    <tr>\n",
       "      <th>96</th>\n",
       "      <td>0</td>\n",
       "      <td>@user i'll always hope that one day i'll get to hug you, but i don't think that it's gonna happen anytime soon...</td>\n",
       "    </tr>\n",
       "    <tr>\n",
       "      <th>97</th>\n",
       "      <td>0</td>\n",
       "      <td>#model   i love u take with u all the time in urð±!!! ððððð¦ð¦ð¦</td>\n",
       "    </tr>\n",
       "    <tr>\n",
       "      <th>98</th>\n",
       "      <td>0</td>\n",
       "      <td>couple having sex fat naked japanese girls</td>\n",
       "    </tr>\n",
       "    <tr>\n",
       "      <th>99</th>\n",
       "      <td>0</td>\n",
       "      <td>#hump on that    #hump day #humpersð© @ edwardsville, pennsylvania</td>\n",
       "    </tr>\n",
       "    <tr>\n",
       "      <th>100</th>\n",
       "      <td>0</td>\n",
       "      <td>personalised we... gbp 7.99 get here:  #shop #cool   #home #fun</td>\n",
       "    </tr>\n",
       "  </tbody>\n",
       "</table>\n",
       "</div>"
      ],
      "text/plain": [
       "     label  \\\n",
       "id           \n",
       "1        0   \n",
       "2        0   \n",
       "3        0   \n",
       "4        0   \n",
       "5        0   \n",
       "6        0   \n",
       "7        0   \n",
       "8        0   \n",
       "9        0   \n",
       "10       0   \n",
       "11       0   \n",
       "12       0   \n",
       "13       0   \n",
       "14       1   \n",
       "15       1   \n",
       "16       0   \n",
       "17       0   \n",
       "18       1   \n",
       "19       0   \n",
       "20       0   \n",
       "21       0   \n",
       "22       0   \n",
       "23       0   \n",
       "24       1   \n",
       "25       0   \n",
       "26       0   \n",
       "27       0   \n",
       "28       0   \n",
       "29       0   \n",
       "30       0   \n",
       "31       0   \n",
       "32       0   \n",
       "33       0   \n",
       "34       0   \n",
       "35       1   \n",
       "36       0   \n",
       "37       0   \n",
       "38       0   \n",
       "39       0   \n",
       "40       0   \n",
       "41       0   \n",
       "42       0   \n",
       "43       0   \n",
       "44       0   \n",
       "45       0   \n",
       "46       0   \n",
       "47       0   \n",
       "48       0   \n",
       "49       0   \n",
       "50       0   \n",
       "51       0   \n",
       "52       0   \n",
       "53       0   \n",
       "54       0   \n",
       "55       0   \n",
       "56       0   \n",
       "57       1   \n",
       "58       0   \n",
       "59       0   \n",
       "60       0   \n",
       "61       0   \n",
       "62       0   \n",
       "63       0   \n",
       "64       0   \n",
       "65       0   \n",
       "66       0   \n",
       "67       0   \n",
       "68       0   \n",
       "69       1   \n",
       "70       0   \n",
       "71       0   \n",
       "72       0   \n",
       "73       0   \n",
       "74       0   \n",
       "75       0   \n",
       "76       0   \n",
       "77       0   \n",
       "78       1   \n",
       "79       0   \n",
       "80       0   \n",
       "81       0   \n",
       "82       0   \n",
       "83       1   \n",
       "84       0   \n",
       "85       0   \n",
       "86       0   \n",
       "87       0   \n",
       "88       0   \n",
       "89       0   \n",
       "90       0   \n",
       "91       0   \n",
       "92       0   \n",
       "93       0   \n",
       "94       0   \n",
       "95       0   \n",
       "96       0   \n",
       "97       0   \n",
       "98       0   \n",
       "99       0   \n",
       "100      0   \n",
       "\n",
       "                                                                                                                                               tweet  \n",
       "id                                                                                                                                                    \n",
       "1                                              @user when a father is dysfunctional and is so selfish he drags his kids into his dysfunction.   #run  \n",
       "2                         @user @user thanks for #lyft credit i can't use cause they don't offer wheelchair vans in pdx.    #disapointed #getthanked  \n",
       "3                                                                                                                                bihday your majesty  \n",
       "4                                                               #model   i love u take with u all the time in urð±!!! ðððð\n",
       "ð¦ð¦ð¦  \n",
       "5                                                                                                             factsguide: society now    #motivation  \n",
       "6                                 [2/2] huge fan fare and big talking before they leave. chaos and pay disputes when they get there. #allshowandnogo  \n",
       "7                                                                          @user camping tomorrow @user @user @user @user @user @user @user dannyâ¦  \n",
       "8    the next school year is the year for exams.ð¯ can't think about that ð­ #school #exams   #hate #imagine #actorslife #revolutionschool #girl  \n",
       "9                                                             we won!!! love the land!!! #allin #cavs #champions #cleveland #clevelandcavaliers  â¦  \n",
       "10                                                                                                  @user @user welcome here !  i'm   it's so #gr8 !  \n",
       "11                                    â #ireland consumer price index (mom) climbed from previous 0.2% to 0.5% in may   #blog #silver #gold #forex  \n",
       "12             we are so selfish. #orlando #standwithorlando #pulseshooting #orlandoshooting #biggerproblems #selfish #heabreaking   #values #love #  \n",
       "13                                                                                               i get to see my daddy today!!   #80days #gettingfed  \n",
       "14                                                                          @user #cnn calls #michigan middle school 'build the wall' chant '' #tcot  \n",
       "15                                             no comment!  in #australia   #opkillingbay #seashepherd #helpcovedolphins #thecove  #helpcovedolphins  \n",
       "16                                                                                           ouch...junior is angryð#got7 #junior #yugyoem   #omg  \n",
       "17                                                                                             i am thankful for having a paner. #thankful #positive  \n",
       "18                                                                                                                             retweet if you agree!  \n",
       "19                                                                       its #friday! ð smiles all around via ig user: @user #cookies make people  \n",
       "20                                                                                        as we all know, essential oils are not made of chemicals.   \n",
       "21                     #euro2016 people blaming ha for conceded goal was it fat rooney who gave away free kick knowing bale can hit them from there.  \n",
       "22                                                                             sad little dude..   #badday #coneofshame #cats #pissed #funny #laughs  \n",
       "23                                              product of the day: happy man #wine tool  who's   it's the #weekend? time to open up &amp; drink up!  \n",
       "24                                                                                                   @user @user lumpy says i am a . prove it lumpy.  \n",
       "25                                                    @user #tgif   #ff to my #gamedev #indiedev #indiegamedev #squad! @user @user @user @user @user  \n",
       "26                                                                    beautiful sign by vendor 80 for $45.00!! #upsideofflorida #shopalyssas   #love  \n",
       "27                     @user all #smiles when #media is   !! ðð #pressconference in #antalya #turkey ! sunday #throwback  love! ððâ¤ï¸  \n",
       "28                                                                          we had a great panel on the mediatization of the public service   #ica16  \n",
       "29                                                                                                         happy father's day @user ðððð  \n",
       "30           50 people went to nightclub to have a good night and 1 man's actions means those people are lost to their families forever #rip#orlando  \n",
       "31                       i have never had a chance to vote for a presidential candidate i was excited about and this cycle looks to be no different.  \n",
       "32                                                              #alohafriday #time does #not #exist #positivevibes #hawaiian @user @user @user @user  \n",
       "33                         @user rip to the fellow nohern ireland fan who sadley passed away tonight!.. gawa, forever singing and cheering on fire    \n",
       "34                                          it was a hard monday due to cloudy weather. disabling oxygen production for today. #goodnight #badmonday  \n",
       "35                                           it's unbelievable that in the 21st century we'd need something like this. again. #neverump  #xenophobia  \n",
       "36                                      #taylorswift1989   bull up: you will dominate your bull and you will direct it whatever you want it to do. w  \n",
       "37                                                                                                     morning~~ #travelingram #dalat   #ripinkylife  \n",
       "38                      @user once more only one word tells it all: #photoshop.  #enoughisenough #dontphotoshopeverything #wheresallthenaturalphotos  \n",
       "39                                                   oh, #cedarpoint. waited 2 hours in the valravn line and it stopped working. we were so close.    \n",
       "40                                                                                                   i am thankful for sunshine. #thankful #positive  \n",
       "41                                                  when you finally finish a book you've been working on for awhile...  #bookworm #ontothenextnovel  \n",
       "42                                          yup, being a knicks fan is hard, so its easier to just be an nba fan when the playoffs roll around ð   \n",
       "43                                                                                       there is life after social networking. embrace each day. be  \n",
       "44                                                              my mom shares the same bihday as @user   bihday snake! see you this weekend ðð¼  \n",
       "45                                                      lovely echeveria blooms#flowers #grow #gardening #iphonesia #bliss #blooms #basilicabotanica  \n",
       "46                                                                                                        i am amazing. #i_am #positive #affirmation  \n",
       "47                                                              #model   i love u take with u all the time in urð±!!! ðððð\n",
       "ð¦ð¦ð¦  \n",
       "48                                                                                                      #whenever im   and #something goes #wrong  |  \n",
       "49                                                                                                                        feeling blue #illustration  \n",
       "50                                                                            the best pa about life is knowing who you are! ðâï¸ð¼ð»  â¦  \n",
       "51                                                                        #abc2020 getting ready 2 remove the victums frm #pulseclub #prayfororlando  \n",
       "52                                          for her #bihday we got her a #nose #job @user  ðð¶ððð    #bihday #petunia we love you ð  \n",
       "53                                                                           off to concelebrate at the #albanpilgrimage for the first time.   @user  \n",
       "54                                                                                                             @user let the scum-baggery begin.....  \n",
       "55                                                      thank you! ðð super love it! â¤ï¸ zpamdelacruz   #wedding# @ dolores, capas tarlac.   \n",
       "56                                                                               a scourge on those playing baroque pieces on piano    beyond belief  \n",
       "57                                                                                                            @user lets fight against  #love #peace  \n",
       "58                                                            happy fatherâs day, mr. rayos #video   #fathers #day #rayos #world #hotvideo #videos  \n",
       "59                                                 @user ascot times with this babe â¤ï¸â¤ï¸ #ascot #fashion #monochrome #style   #instahappyday  \n",
       "60                                                                       the weekend..is here!!ððððð #selfie   #yolo #xoxo #like4like  \n",
       "61                                          happy at work conference: right' mindset leads to culture-of-development organizations    #work #mindset  \n",
       "62                                      christina grimmie's  last performance before being shot...  via @user #christinarip #voice #christinagrimmie  \n",
       "63                                                                                   we are ready to dance #roar #preschoolers   #students #proudâ¦  \n",
       "64                                                                                                                   you've really hu my feelings :(  \n",
       "65                   @user my wife whom i adore had to miss your poland show because she had surgery. her name is bridget &amp; she's my everything.  \n",
       "66                                                                                              @user i am so jealous of you right now.... #chatiado  \n",
       "67                                                                         i celebrate every man that has played it's fatherly role.   father's day#  \n",
       "68                                                                               i'm sure they are just as happy.... ðð½ðð½ðð½   hour  \n",
       "69                                      ð©the white establishment can't have blk folx running around loving themselves and promoting our greatness  \n",
       "70                                                    good morning! the journey begins! ððð»ð³   #travel #yeah #thejourneybegins #helloâ¦  \n",
       "71                                                                            @user # if you #luv #hottweets like this from â¶ â¥#venusexchangeâ¥  \n",
       "72                                                                                 our new brochures have arrived! how exciting!! #aworks #solutions  \n",
       "73                              so much stuff happening in florida! first #orlando shooting and now #disneygatorattack on a two year old kidð¥ð  \n",
       "74                  @user ferrari will do itðªð¼ for the sake of the championship. this gp is clearly a turning point rb, ferrari,mercs...ð    \n",
       "75                                                                                                                      aced my first test!   #proud  \n",
       "76                                                                           seeks probe into #udtapunjab' leak, points finger at #amarinder, #aap    \n",
       "77                                                                                  @user wrapping up #senseaboutmaths @user 6th   @user @user @user  \n",
       "78                                                           @user hey, white people: you can call people 'white' by @user  #race  #identity #medâ¦  \n",
       "79                                           @user @user you might be. just have not shown here today. regurgitated talking points and name calling?  \n",
       "80                                   sometimes you have to raise a few brows to raise the bar. #golfstrengthandconditioning   #strong #felixfoisgolf  \n",
       "81                                                                                    about that ððð #greathonour #careerconvos @user @user  \n",
       "82                               @user designing #innovative learning space @user to include #wateringhole #cave #mountaintop #campfire @user   hâ¦  \n",
       "83                                                                         how the #altright uses  &amp; insecurity to lure men into #whitesupremacy  \n",
       "84            carrying a gun wouldn't of helped if you can't take it in with you. gun control won't stop the black market! terrorism will get worse!  \n",
       "85                                                           use the power of your mind to #heal your body!! -     #altwaystoheal #healthy   #peace!  \n",
       "86                                                                                                                 woohoo!! just over 5 weeks to go!  \n",
       "87                                                                                    being in a far away place where you have no family members hus  \n",
       "88              ready to rehearse tonight with new music and new videos, look out for the announcement! #midweek #newmusic #watchthisspace #guitar    \n",
       "89                                                 now on monday nights at 8pm on #up channel!!!! i finally get to see what all the fuss is about!!!  \n",
       "90                                                                                                       watching the new episodes of @user on @user  \n",
       "91                                               @user offline now after a very nice and long night.. ð #snapchat @user   #redhead #vermillionred  \n",
       "92                                                                                                                 15 things incredibly   #people do  \n",
       "93                               yes! received my acceptance letter for my masters so will be back at @user again in october!    #goodtimes #history  \n",
       "94              daughter riding her bike around driveway, son playing his guitar for us while we enjoy ðº by the campfire... #summeime   #memories  \n",
       "95                                   omg!!! loving this station!!! way to jam out at work!!! while getting work done of course!!!!   #memories @user  \n",
       "96                                @user i'll always hope that one day i'll get to hug you, but i don't think that it's gonna happen anytime soon...   \n",
       "97                                                              #model   i love u take with u all the time in urð±!!! ðððð\n",
       "ð¦ð¦ð¦  \n",
       "98                                                                                                        couple having sex fat naked japanese girls  \n",
       "99                                                                             #hump on that    #hump day #humpersð© @ edwardsville, pennsylvania   \n",
       "100                                                                                  personalised we... gbp 7.99 get here:  #shop #cool   #home #fun  "
      ]
     },
     "execution_count": 2,
     "metadata": {},
     "output_type": "execute_result"
    }
   ],
   "source": [
    "df = pd.read_csv(\"../Data/Hate Speech.tsv\", sep= \"\\t\", index_col='id')\n",
    "df.head(100)"
   ]
  },
  {
   "cell_type": "code",
   "execution_count": 3,
   "metadata": {},
   "outputs": [
    {
     "name": "stdout",
     "output_type": "stream",
     "text": [
      "Null values:  label    0\n",
      "tweet    0\n",
      "dtype: int64\n"
     ]
    }
   ],
   "source": [
    "# Check Null values \n",
    "print(\"Null values: \", df.isnull().sum())"
   ]
  },
  {
   "cell_type": "code",
   "execution_count": 4,
   "metadata": {},
   "outputs": [
    {
     "name": "stdout",
     "output_type": "stream",
     "text": [
      "duplicates:  2404\n"
     ]
    }
   ],
   "source": [
    "print(\"duplicates: \", df.duplicated(subset=['tweet', 'label']).sum())"
   ]
  },
  {
   "cell_type": "code",
   "execution_count": 5,
   "metadata": {},
   "outputs": [
    {
     "data": {
      "application/vnd.plotly.v1+json": {
       "config": {
        "plotlyServerURL": "https://plot.ly"
       },
       "data": [
        {
         "domain": {
          "x": [
           0,
           1
          ],
          "y": [
           0,
           1
          ]
         },
         "hovertemplate": "label=%{label}<br>value=%{value}<extra></extra>",
         "labels": [
          false,
          true
         ],
         "legendgroup": "",
         "name": "",
         "showlegend": true,
         "type": "pie",
         "values": {
          "bdata": "y3FkCQ==",
          "dtype": "i2"
         }
        }
       ],
       "layout": {
        "height": 450,
        "legend": {
         "tracegroupgap": 0
        },
        "template": {
         "data": {
          "bar": [
           {
            "error_x": {
             "color": "#2a3f5f"
            },
            "error_y": {
             "color": "#2a3f5f"
            },
            "marker": {
             "line": {
              "color": "#E5ECF6",
              "width": 0.5
             },
             "pattern": {
              "fillmode": "overlay",
              "size": 10,
              "solidity": 0.2
             }
            },
            "type": "bar"
           }
          ],
          "barpolar": [
           {
            "marker": {
             "line": {
              "color": "#E5ECF6",
              "width": 0.5
             },
             "pattern": {
              "fillmode": "overlay",
              "size": 10,
              "solidity": 0.2
             }
            },
            "type": "barpolar"
           }
          ],
          "carpet": [
           {
            "aaxis": {
             "endlinecolor": "#2a3f5f",
             "gridcolor": "white",
             "linecolor": "white",
             "minorgridcolor": "white",
             "startlinecolor": "#2a3f5f"
            },
            "baxis": {
             "endlinecolor": "#2a3f5f",
             "gridcolor": "white",
             "linecolor": "white",
             "minorgridcolor": "white",
             "startlinecolor": "#2a3f5f"
            },
            "type": "carpet"
           }
          ],
          "choropleth": [
           {
            "colorbar": {
             "outlinewidth": 0,
             "ticks": ""
            },
            "type": "choropleth"
           }
          ],
          "contour": [
           {
            "colorbar": {
             "outlinewidth": 0,
             "ticks": ""
            },
            "colorscale": [
             [
              0,
              "#0d0887"
             ],
             [
              0.1111111111111111,
              "#46039f"
             ],
             [
              0.2222222222222222,
              "#7201a8"
             ],
             [
              0.3333333333333333,
              "#9c179e"
             ],
             [
              0.4444444444444444,
              "#bd3786"
             ],
             [
              0.5555555555555556,
              "#d8576b"
             ],
             [
              0.6666666666666666,
              "#ed7953"
             ],
             [
              0.7777777777777778,
              "#fb9f3a"
             ],
             [
              0.8888888888888888,
              "#fdca26"
             ],
             [
              1,
              "#f0f921"
             ]
            ],
            "type": "contour"
           }
          ],
          "contourcarpet": [
           {
            "colorbar": {
             "outlinewidth": 0,
             "ticks": ""
            },
            "type": "contourcarpet"
           }
          ],
          "heatmap": [
           {
            "colorbar": {
             "outlinewidth": 0,
             "ticks": ""
            },
            "colorscale": [
             [
              0,
              "#0d0887"
             ],
             [
              0.1111111111111111,
              "#46039f"
             ],
             [
              0.2222222222222222,
              "#7201a8"
             ],
             [
              0.3333333333333333,
              "#9c179e"
             ],
             [
              0.4444444444444444,
              "#bd3786"
             ],
             [
              0.5555555555555556,
              "#d8576b"
             ],
             [
              0.6666666666666666,
              "#ed7953"
             ],
             [
              0.7777777777777778,
              "#fb9f3a"
             ],
             [
              0.8888888888888888,
              "#fdca26"
             ],
             [
              1,
              "#f0f921"
             ]
            ],
            "type": "heatmap"
           }
          ],
          "histogram": [
           {
            "marker": {
             "pattern": {
              "fillmode": "overlay",
              "size": 10,
              "solidity": 0.2
             }
            },
            "type": "histogram"
           }
          ],
          "histogram2d": [
           {
            "colorbar": {
             "outlinewidth": 0,
             "ticks": ""
            },
            "colorscale": [
             [
              0,
              "#0d0887"
             ],
             [
              0.1111111111111111,
              "#46039f"
             ],
             [
              0.2222222222222222,
              "#7201a8"
             ],
             [
              0.3333333333333333,
              "#9c179e"
             ],
             [
              0.4444444444444444,
              "#bd3786"
             ],
             [
              0.5555555555555556,
              "#d8576b"
             ],
             [
              0.6666666666666666,
              "#ed7953"
             ],
             [
              0.7777777777777778,
              "#fb9f3a"
             ],
             [
              0.8888888888888888,
              "#fdca26"
             ],
             [
              1,
              "#f0f921"
             ]
            ],
            "type": "histogram2d"
           }
          ],
          "histogram2dcontour": [
           {
            "colorbar": {
             "outlinewidth": 0,
             "ticks": ""
            },
            "colorscale": [
             [
              0,
              "#0d0887"
             ],
             [
              0.1111111111111111,
              "#46039f"
             ],
             [
              0.2222222222222222,
              "#7201a8"
             ],
             [
              0.3333333333333333,
              "#9c179e"
             ],
             [
              0.4444444444444444,
              "#bd3786"
             ],
             [
              0.5555555555555556,
              "#d8576b"
             ],
             [
              0.6666666666666666,
              "#ed7953"
             ],
             [
              0.7777777777777778,
              "#fb9f3a"
             ],
             [
              0.8888888888888888,
              "#fdca26"
             ],
             [
              1,
              "#f0f921"
             ]
            ],
            "type": "histogram2dcontour"
           }
          ],
          "mesh3d": [
           {
            "colorbar": {
             "outlinewidth": 0,
             "ticks": ""
            },
            "type": "mesh3d"
           }
          ],
          "parcoords": [
           {
            "line": {
             "colorbar": {
              "outlinewidth": 0,
              "ticks": ""
             }
            },
            "type": "parcoords"
           }
          ],
          "pie": [
           {
            "automargin": true,
            "type": "pie"
           }
          ],
          "scatter": [
           {
            "fillpattern": {
             "fillmode": "overlay",
             "size": 10,
             "solidity": 0.2
            },
            "type": "scatter"
           }
          ],
          "scatter3d": [
           {
            "line": {
             "colorbar": {
              "outlinewidth": 0,
              "ticks": ""
             }
            },
            "marker": {
             "colorbar": {
              "outlinewidth": 0,
              "ticks": ""
             }
            },
            "type": "scatter3d"
           }
          ],
          "scattercarpet": [
           {
            "marker": {
             "colorbar": {
              "outlinewidth": 0,
              "ticks": ""
             }
            },
            "type": "scattercarpet"
           }
          ],
          "scattergeo": [
           {
            "marker": {
             "colorbar": {
              "outlinewidth": 0,
              "ticks": ""
             }
            },
            "type": "scattergeo"
           }
          ],
          "scattergl": [
           {
            "marker": {
             "colorbar": {
              "outlinewidth": 0,
              "ticks": ""
             }
            },
            "type": "scattergl"
           }
          ],
          "scattermap": [
           {
            "marker": {
             "colorbar": {
              "outlinewidth": 0,
              "ticks": ""
             }
            },
            "type": "scattermap"
           }
          ],
          "scattermapbox": [
           {
            "marker": {
             "colorbar": {
              "outlinewidth": 0,
              "ticks": ""
             }
            },
            "type": "scattermapbox"
           }
          ],
          "scatterpolar": [
           {
            "marker": {
             "colorbar": {
              "outlinewidth": 0,
              "ticks": ""
             }
            },
            "type": "scatterpolar"
           }
          ],
          "scatterpolargl": [
           {
            "marker": {
             "colorbar": {
              "outlinewidth": 0,
              "ticks": ""
             }
            },
            "type": "scatterpolargl"
           }
          ],
          "scatterternary": [
           {
            "marker": {
             "colorbar": {
              "outlinewidth": 0,
              "ticks": ""
             }
            },
            "type": "scatterternary"
           }
          ],
          "surface": [
           {
            "colorbar": {
             "outlinewidth": 0,
             "ticks": ""
            },
            "colorscale": [
             [
              0,
              "#0d0887"
             ],
             [
              0.1111111111111111,
              "#46039f"
             ],
             [
              0.2222222222222222,
              "#7201a8"
             ],
             [
              0.3333333333333333,
              "#9c179e"
             ],
             [
              0.4444444444444444,
              "#bd3786"
             ],
             [
              0.5555555555555556,
              "#d8576b"
             ],
             [
              0.6666666666666666,
              "#ed7953"
             ],
             [
              0.7777777777777778,
              "#fb9f3a"
             ],
             [
              0.8888888888888888,
              "#fdca26"
             ],
             [
              1,
              "#f0f921"
             ]
            ],
            "type": "surface"
           }
          ],
          "table": [
           {
            "cells": {
             "fill": {
              "color": "#EBF0F8"
             },
             "line": {
              "color": "white"
             }
            },
            "header": {
             "fill": {
              "color": "#C8D4E3"
             },
             "line": {
              "color": "white"
             }
            },
            "type": "table"
           }
          ]
         },
         "layout": {
          "annotationdefaults": {
           "arrowcolor": "#2a3f5f",
           "arrowhead": 0,
           "arrowwidth": 1
          },
          "autotypenumbers": "strict",
          "coloraxis": {
           "colorbar": {
            "outlinewidth": 0,
            "ticks": ""
           }
          },
          "colorscale": {
           "diverging": [
            [
             0,
             "#8e0152"
            ],
            [
             0.1,
             "#c51b7d"
            ],
            [
             0.2,
             "#de77ae"
            ],
            [
             0.3,
             "#f1b6da"
            ],
            [
             0.4,
             "#fde0ef"
            ],
            [
             0.5,
             "#f7f7f7"
            ],
            [
             0.6,
             "#e6f5d0"
            ],
            [
             0.7,
             "#b8e186"
            ],
            [
             0.8,
             "#7fbc41"
            ],
            [
             0.9,
             "#4d9221"
            ],
            [
             1,
             "#276419"
            ]
           ],
           "sequential": [
            [
             0,
             "#0d0887"
            ],
            [
             0.1111111111111111,
             "#46039f"
            ],
            [
             0.2222222222222222,
             "#7201a8"
            ],
            [
             0.3333333333333333,
             "#9c179e"
            ],
            [
             0.4444444444444444,
             "#bd3786"
            ],
            [
             0.5555555555555556,
             "#d8576b"
            ],
            [
             0.6666666666666666,
             "#ed7953"
            ],
            [
             0.7777777777777778,
             "#fb9f3a"
            ],
            [
             0.8888888888888888,
             "#fdca26"
            ],
            [
             1,
             "#f0f921"
            ]
           ],
           "sequentialminus": [
            [
             0,
             "#0d0887"
            ],
            [
             0.1111111111111111,
             "#46039f"
            ],
            [
             0.2222222222222222,
             "#7201a8"
            ],
            [
             0.3333333333333333,
             "#9c179e"
            ],
            [
             0.4444444444444444,
             "#bd3786"
            ],
            [
             0.5555555555555556,
             "#d8576b"
            ],
            [
             0.6666666666666666,
             "#ed7953"
            ],
            [
             0.7777777777777778,
             "#fb9f3a"
            ],
            [
             0.8888888888888888,
             "#fdca26"
            ],
            [
             1,
             "#f0f921"
            ]
           ]
          },
          "colorway": [
           "#636efa",
           "#EF553B",
           "#00cc96",
           "#ab63fa",
           "#FFA15A",
           "#19d3f3",
           "#FF6692",
           "#B6E880",
           "#FF97FF",
           "#FECB52"
          ],
          "font": {
           "color": "#2a3f5f"
          },
          "geo": {
           "bgcolor": "white",
           "lakecolor": "white",
           "landcolor": "#E5ECF6",
           "showlakes": true,
           "showland": true,
           "subunitcolor": "white"
          },
          "hoverlabel": {
           "align": "left"
          },
          "hovermode": "closest",
          "mapbox": {
           "style": "light"
          },
          "paper_bgcolor": "white",
          "plot_bgcolor": "#E5ECF6",
          "polar": {
           "angularaxis": {
            "gridcolor": "white",
            "linecolor": "white",
            "ticks": ""
           },
           "bgcolor": "#E5ECF6",
           "radialaxis": {
            "gridcolor": "white",
            "linecolor": "white",
            "ticks": ""
           }
          },
          "scene": {
           "xaxis": {
            "backgroundcolor": "#E5ECF6",
            "gridcolor": "white",
            "gridwidth": 2,
            "linecolor": "white",
            "showbackground": true,
            "ticks": "",
            "zerolinecolor": "white"
           },
           "yaxis": {
            "backgroundcolor": "#E5ECF6",
            "gridcolor": "white",
            "gridwidth": 2,
            "linecolor": "white",
            "showbackground": true,
            "ticks": "",
            "zerolinecolor": "white"
           },
           "zaxis": {
            "backgroundcolor": "#E5ECF6",
            "gridcolor": "white",
            "gridwidth": 2,
            "linecolor": "white",
            "showbackground": true,
            "ticks": "",
            "zerolinecolor": "white"
           }
          },
          "shapedefaults": {
           "line": {
            "color": "#2a3f5f"
           }
          },
          "ternary": {
           "aaxis": {
            "gridcolor": "white",
            "linecolor": "white",
            "ticks": ""
           },
           "baxis": {
            "gridcolor": "white",
            "linecolor": "white",
            "ticks": ""
           },
           "bgcolor": "#E5ECF6",
           "caxis": {
            "gridcolor": "white",
            "linecolor": "white",
            "ticks": ""
           }
          },
          "title": {
           "x": 0.05
          },
          "xaxis": {
           "automargin": true,
           "gridcolor": "white",
           "linecolor": "white",
           "ticks": "",
           "title": {
            "standoff": 15
           },
           "zerolinecolor": "white",
           "zerolinewidth": 2
          },
          "yaxis": {
           "automargin": true,
           "gridcolor": "white",
           "linecolor": "white",
           "ticks": "",
           "title": {
            "standoff": 15
           },
           "zerolinecolor": "white",
           "zerolinewidth": 2
          }
         }
        },
        "title": {
         "text": "Duplicates"
        },
        "width": 500
       }
      }
     },
     "metadata": {},
     "output_type": "display_data"
    }
   ],
   "source": [
    "# Drawing pie chart of duplicates using plotly\n",
    "fig = px.pie(df, values=df.duplicated(subset=['tweet', 'label']).value_counts(), names=df.duplicated(subset=['tweet', 'label']).value_counts().index, title=\"Duplicates\",width=500, height=450)\n",
    "fig.show()"
   ]
  },
  {
   "cell_type": "code",
   "execution_count": 6,
   "metadata": {},
   "outputs": [
    {
     "name": "stdout",
     "output_type": "stream",
     "text": [
      "duplicates:  0\n"
     ]
    }
   ],
   "source": [
    "df.drop_duplicates(subset='tweet',inplace=True) \n",
    "# After that we will find that there is no more duplicates\n",
    "print(\"duplicates: \", df.duplicated(subset=['tweet', 'label']).sum())"
   ]
  },
  {
   "cell_type": "code",
   "execution_count": 7,
   "metadata": {},
   "outputs": [
    {
     "data": {
      "application/vnd.microsoft.datawrangler.viewer.v0+json": {
       "columns": [
        {
         "name": "index",
         "rawType": "int64",
         "type": "integer"
        },
        {
         "name": "label",
         "rawType": "int64",
         "type": "integer"
        },
        {
         "name": "tweet",
         "rawType": "object",
         "type": "string"
        }
       ],
       "conversionMethod": "pd.DataFrame",
       "ref": "a11e3c64-27b2-42a6-aed6-855ac6d2e4f5",
       "rows": [
        [
         "0",
         "0",
         "@user when a father is dysfunctional and is so selfish he drags his kids into his dysfunction.   #run"
        ],
        [
         "1",
         "0",
         "@user @user thanks for #lyft credit i can't use cause they don't offer wheelchair vans in pdx.    #disapointed #getthanked"
        ],
        [
         "2",
         "0",
         "bihday your majesty"
        ],
        [
         "3",
         "0",
         "#model   i love u take with u all the time in urð±!!! ððððð¦ð¦ð¦"
        ],
        [
         "4",
         "0",
         "factsguide: society now    #motivation"
        ]
       ],
       "shape": {
        "columns": 2,
        "rows": 5
       }
      },
      "text/html": [
       "<div>\n",
       "<style scoped>\n",
       "    .dataframe tbody tr th:only-of-type {\n",
       "        vertical-align: middle;\n",
       "    }\n",
       "\n",
       "    .dataframe tbody tr th {\n",
       "        vertical-align: top;\n",
       "    }\n",
       "\n",
       "    .dataframe thead th {\n",
       "        text-align: right;\n",
       "    }\n",
       "</style>\n",
       "<table border=\"1\" class=\"dataframe\">\n",
       "  <thead>\n",
       "    <tr style=\"text-align: right;\">\n",
       "      <th></th>\n",
       "      <th>label</th>\n",
       "      <th>tweet</th>\n",
       "    </tr>\n",
       "  </thead>\n",
       "  <tbody>\n",
       "    <tr>\n",
       "      <th>0</th>\n",
       "      <td>0</td>\n",
       "      <td>@user when a father is dysfunctional and is so selfish he drags his kids into his dysfunction.   #run</td>\n",
       "    </tr>\n",
       "    <tr>\n",
       "      <th>1</th>\n",
       "      <td>0</td>\n",
       "      <td>@user @user thanks for #lyft credit i can't use cause they don't offer wheelchair vans in pdx.    #disapointed #getthanked</td>\n",
       "    </tr>\n",
       "    <tr>\n",
       "      <th>2</th>\n",
       "      <td>0</td>\n",
       "      <td>bihday your majesty</td>\n",
       "    </tr>\n",
       "    <tr>\n",
       "      <th>3</th>\n",
       "      <td>0</td>\n",
       "      <td>#model   i love u take with u all the time in urð±!!! ððððð¦ð¦ð¦</td>\n",
       "    </tr>\n",
       "    <tr>\n",
       "      <th>4</th>\n",
       "      <td>0</td>\n",
       "      <td>factsguide: society now    #motivation</td>\n",
       "    </tr>\n",
       "  </tbody>\n",
       "</table>\n",
       "</div>"
      ],
      "text/plain": [
       "   label  \\\n",
       "0      0   \n",
       "1      0   \n",
       "2      0   \n",
       "3      0   \n",
       "4      0   \n",
       "\n",
       "                                                                                                                        tweet  \n",
       "0                       @user when a father is dysfunctional and is so selfish he drags his kids into his dysfunction.   #run  \n",
       "1  @user @user thanks for #lyft credit i can't use cause they don't offer wheelchair vans in pdx.    #disapointed #getthanked  \n",
       "2                                                                                                         bihday your majesty  \n",
       "3                                        #model   i love u take with u all the time in urð±!!! ðððð\n",
       "ð¦ð¦ð¦  \n",
       "4                                                                                      factsguide: society now    #motivation  "
      ]
     },
     "execution_count": 7,
     "metadata": {},
     "output_type": "execute_result"
    }
   ],
   "source": [
    "df.reset_index(inplace=True)\n",
    "df.drop(columns=['id'], inplace=True)\n",
    "df.head()"
   ]
  },
  {
   "cell_type": "code",
   "execution_count": 8,
   "metadata": {},
   "outputs": [
    {
     "data": {
      "image/png": "[encoded data removed]",
      "text/plain": [
       "<Figure size 1400x400 with 2 Axes>"
      ]
     },
     "metadata": {},
     "output_type": "display_data"
    }
   ],
   "source": [
    "# show if there is any imbalance in the dataset - plotting using bar chart using seaborn\n",
    "\n",
    "# Count label values\n",
    "label_counts = df['label'].value_counts().sort_index()\n",
    "\n",
    "# Create subplots: 1 row, 2 columns\n",
    "fig, axs = plt.subplots(1, 2, figsize=(14, 4))\n",
    "\n",
    "# Countplot (bar chart)\n",
    "sns.countplot(x='label', data=df, ax=axs[0])\n",
    "axs[0].set_title('Label Distribution - Count Plot')\n",
    "axs[0].set_xlabel('Label')\n",
    "axs[0].set_ylabel('Count')\n",
    "\n",
    "# Pie chart\n",
    "axs[1].pie(label_counts, labels=label_counts.index, autopct='%1.1f%%')\n",
    "axs[1].set_title('Label Distribution - Pie Chart')\n",
    "\n",
    "# Show both plots\n",
    "plt.tight_layout()\n",
    "plt.show()"
   ]
  },
  {
   "cell_type": "code",
   "execution_count": 9,
   "metadata": {},
   "outputs": [
    {
     "data": {
      "application/vnd.microsoft.datawrangler.viewer.v0+json": {
       "columns": [
        {
         "name": "index",
         "rawType": "int64",
         "type": "integer"
        },
        {
         "name": "tweet",
         "rawType": "object",
         "type": "string"
        },
        {
         "name": "label",
         "rawType": "int64",
         "type": "integer"
        }
       ],
       "conversionMethod": "pd.DataFrame",
       "ref": "71e63a1e-76c3-4ba8-8fd4-b0aecdbf3e51",
       "rows": [
        [
         "0",
         "I am not going to the party tonight.",
         "1"
        ],
        [
         "1",
         "@user when a father is dysfunctional and is so selfish he drags his kids into his dysfunction.   #run",
         "0"
        ],
        [
         "2",
         "@user @user thanks for #lyft credit i can't use cause they don't offer wheelchair vans in pdx.    #disapointed #getthanked",
         "0"
        ],
        [
         "3",
         "She does not like coffee.",
         "1"
        ],
        [
         "4",
         "They are not coming with us.",
         "1"
        ],
        [
         "5",
         "bihday your majesty",
         "0"
        ],
        [
         "6",
         "He did not finish his homework.",
         "1"
        ],
        [
         "7",
         "#model   i love u take with u all the time in urð±!!! ððððð¦ð¦ð¦",
         "0"
        ],
        [
         "8",
         "We have not seen that movie yet.",
         "1"
        ],
        [
         "9",
         "factsguide: society now    #motivation",
         "0"
        ],
        [
         "10",
         "[2/2] huge fan fare and big talking before they leave. chaos and pay disputes when they get there. #allshowandnogo",
         "0"
        ],
        [
         "11",
         "You cannot park here.",
         "1"
        ],
        [
         "12",
         "@user camping tomorrow @user @user @user @user @user @user @user dannyâ¦",
         "0"
        ],
        [
         "13",
         "It is not raining.",
         "1"
        ],
        [
         "14",
         "the next school year is the year for exams.ð¯ can't think about that ð­ #school #exams   #hate #imagine #actorslife #revolutionschool #girl",
         "0"
        ],
        [
         "15",
         "The food was not very good.",
         "1"
        ],
        [
         "16",
         "we won!!! love the land!!! #allin #cavs #champions #cleveland #clevelandcavaliers  â¦",
         "0"
        ],
        [
         "17",
         "I do not understand the question.",
         "1"
        ],
        [
         "18",
         "@user @user welcome here !  i'm   it's so #gr8 !",
         "0"
        ],
        [
         "19",
         "She has not called me back.",
         "1"
        ],
        [
         "20",
         "â #ireland consumer price index (mom) climbed from previous 0.2% to 0.5% in may   #blog #silver #gold #forex",
         "0"
        ],
        [
         "21",
         "They will not be late.",
         "1"
        ],
        [
         "22",
         "we are so selfish. #orlando #standwithorlando #pulseshooting #orlandoshooting #biggerproblems #selfish #heabreaking   #values #love #",
         "0"
        ],
        [
         "23",
         "He is not feeling well.",
         "1"
        ],
        [
         "24",
         "We were not invited.",
         "1"
        ],
        [
         "25",
         "i get to see my daddy today!!   #80days #gettingfed",
         "0"
        ],
        [
         "26",
         "You should not do that.",
         "1"
        ],
        [
         "27",
         "@user #cnn calls #michigan middle school 'build the wall' chant '' #tcot",
         "1"
        ],
        [
         "28",
         "no comment!  in #australia   #opkillingbay #seashepherd #helpcovedolphins #thecove  #helpcovedolphins",
         "1"
        ],
        [
         "29",
         "It does not matter.",
         "1"
        ],
        [
         "30",
         "ouch...junior is angryð#got7 #junior #yugyoem   #omg",
         "0"
        ],
        [
         "31",
         "The store is not open yet.",
         "1"
        ],
        [
         "32",
         "I did not see him.",
         "1"
        ],
        [
         "33",
         "i am thankful for having a paner. #thankful #positive",
         "0"
        ],
        [
         "34",
         "retweet if you agree!",
         "1"
        ],
        [
         "35",
         "She has never been to Europe.",
         "1"
        ],
        [
         "36",
         "its #friday! ð smiles all around via ig user: @user #cookies make people",
         "0"
        ],
        [
         "37",
         "They are not happy about the decision.",
         "1"
        ],
        [
         "38",
         "He cannot speak Spanish.",
         "1"
        ],
        [
         "39",
         "as we all know, essential oils are not made of chemicals. ",
         "0"
        ],
        [
         "40",
         "We will not forget this.",
         "1"
        ],
        [
         "41",
         "#euro2016 people blaming ha for conceded goal was it fat rooney who gave away free kick knowing bale can hit them from there.",
         "0"
        ],
        [
         "42",
         "You are not allowed in this area.",
         "1"
        ],
        [
         "43",
         "sad little dude..   #badday #coneofshame #cats #pissed #funny #laughs",
         "0"
        ],
        [
         "44",
         "It was not my fault.",
         "1"
        ],
        [
         "45",
         "product of the day: happy man #wine tool  who's   it's the #weekend? time to open up &amp; drink up!",
         "0"
        ],
        [
         "46",
         "The book is not interesting.",
         "1"
        ],
        [
         "47",
         "@user @user lumpy says i am a . prove it lumpy.",
         "1"
        ],
        [
         "48",
         "I do not know the answer.",
         "1"
        ],
        [
         "49",
         "@user #tgif   #ff to my #gamedev #indiedev #indiegamedev #squad! @user @user @user @user @user",
         "0"
        ]
       ],
       "shape": {
        "columns": 2,
        "rows": 31845
       }
      },
      "text/html": [
       "<div>\n",
       "<style scoped>\n",
       "    .dataframe tbody tr th:only-of-type {\n",
       "        vertical-align: middle;\n",
       "    }\n",
       "\n",
       "    .dataframe tbody tr th {\n",
       "        vertical-align: top;\n",
       "    }\n",
       "\n",
       "    .dataframe thead th {\n",
       "        text-align: right;\n",
       "    }\n",
       "</style>\n",
       "<table border=\"1\" class=\"dataframe\">\n",
       "  <thead>\n",
       "    <tr style=\"text-align: right;\">\n",
       "      <th></th>\n",
       "      <th>tweet</th>\n",
       "      <th>label</th>\n",
       "    </tr>\n",
       "  </thead>\n",
       "  <tbody>\n",
       "    <tr>\n",
       "      <th>0</th>\n",
       "      <td>I am not going to the party tonight.</td>\n",
       "      <td>1</td>\n",
       "    </tr>\n",
       "    <tr>\n",
       "      <th>1</th>\n",
       "      <td>@user when a father is dysfunctional and is so selfish he drags his kids into his dysfunction.   #run</td>\n",
       "      <td>0</td>\n",
       "    </tr>\n",
       "    <tr>\n",
       "      <th>2</th>\n",
       "      <td>@user @user thanks for #lyft credit i can't use cause they don't offer wheelchair vans in pdx.    #disapointed #getthanked</td>\n",
       "      <td>0</td>\n",
       "    </tr>\n",
       "    <tr>\n",
       "      <th>3</th>\n",
       "      <td>She does not like coffee.</td>\n",
       "      <td>1</td>\n",
       "    </tr>\n",
       "    <tr>\n",
       "      <th>4</th>\n",
       "      <td>They are not coming with us.</td>\n",
       "      <td>1</td>\n",
       "    </tr>\n",
       "    <tr>\n",
       "      <th>...</th>\n",
       "      <td>...</td>\n",
       "      <td>...</td>\n",
       "    </tr>\n",
       "    <tr>\n",
       "      <th>31840</th>\n",
       "      <td>ate @user isz that youuu?ðððððððððâ¤ï¸</td>\n",
       "      <td>0</td>\n",
       "    </tr>\n",
       "    <tr>\n",
       "      <th>31841</th>\n",
       "      <td>to see nina turner on the airwaves trying to wrap herself in the mantle of a genuine hero like shirley chisolm. #shame #imwithher</td>\n",
       "      <td>0</td>\n",
       "    </tr>\n",
       "    <tr>\n",
       "      <th>31842</th>\n",
       "      <td>listening to sad songs on a monday morning otw to work is sad</td>\n",
       "      <td>0</td>\n",
       "    </tr>\n",
       "    <tr>\n",
       "      <th>31843</th>\n",
       "      <td>@user #sikh #temple vandalised in in #calgary, #wso condemns  act</td>\n",
       "      <td>1</td>\n",
       "    </tr>\n",
       "    <tr>\n",
       "      <th>31844</th>\n",
       "      <td>thank you @user for you follow</td>\n",
       "      <td>0</td>\n",
       "    </tr>\n",
       "  </tbody>\n",
       "</table>\n",
       "<p>31845 rows × 2 columns</p>\n",
       "</div>"
      ],
      "text/plain": [
       "                                                                                                                                   tweet  \\\n",
       "0                                                                                                   I am not going to the party tonight.   \n",
       "1                                  @user when a father is dysfunctional and is so selfish he drags his kids into his dysfunction.   #run   \n",
       "2             @user @user thanks for #lyft credit i can't use cause they don't offer wheelchair vans in pdx.    #disapointed #getthanked   \n",
       "3                                                                                                              She does not like coffee.   \n",
       "4                                                                                                           They are not coming with us.   \n",
       "...                                                                                                                                  ...   \n",
       "31840                                                                ate @user isz that youuu?ðððððððððâ¤ï¸   \n",
       "31841  to see nina turner on the airwaves trying to wrap herself in the mantle of a genuine hero like shirley chisolm. #shame #imwithher   \n",
       "31842                                                                      listening to sad songs on a monday morning otw to work is sad   \n",
       "31843                                                                @user #sikh #temple vandalised in in #calgary, #wso condemns  act     \n",
       "31844                                                                                                     thank you @user for you follow   \n",
       "\n",
       "       label  \n",
       "0          1  \n",
       "1          0  \n",
       "2          0  \n",
       "3          1  \n",
       "4          1  \n",
       "...      ...  \n",
       "31840      0  \n",
       "31841      0  \n",
       "31842      0  \n",
       "31843      1  \n",
       "31844      0  \n",
       "\n",
       "[31845 rows x 2 columns]"
      ]
     },
     "execution_count": 9,
     "metadata": {},
     "output_type": "execute_result"
    }
   ],
   "source": [
    "# <!-- i tried to augment label 1 using llms and i will try to use it instead  --> \n",
    "df = pd.read_csv(\"../Data/Hate Speech augmented.tsv\", sep= \"\\t\")\n",
    "df"
   ]
  },
  {
   "cell_type": "code",
   "execution_count": 10,
   "metadata": {},
   "outputs": [
    {
     "name": "stdout",
     "output_type": "stream",
     "text": [
      "duplicates:  0\n"
     ]
    }
   ],
   "source": [
    "df.drop_duplicates(subset='tweet',inplace=True) \n",
    "# After that we will find that there is no more duplicates\n",
    "print(\"duplicates: \", df.duplicated(subset=['tweet', 'label']).sum())\n",
    "df.reset_index(inplace=True)"
   ]
  },
  {
   "cell_type": "code",
   "execution_count": 11,
   "metadata": {},
   "outputs": [
    {
     "data": {
      "image/png": "[encoded data removed]",
      "text/plain": [
       "<Figure size 1400x400 with 2 Axes>"
      ]
     },
     "metadata": {},
     "output_type": "display_data"
    }
   ],
   "source": [
    "# show if there is any imbalance in the dataset - plotting using bar chart using seaborn\n",
    "\n",
    "# Count label values\n",
    "label_counts = df['label'].value_counts().sort_index()\n",
    "\n",
    "# Create subplots: 1 row, 2 columns\n",
    "fig, axs = plt.subplots(1, 2, figsize=(14, 4))\n",
    "\n",
    "# Countplot (bar chart)\n",
    "sns.countplot(x='label', data=df, ax=axs[0])\n",
    "axs[0].set_title('Label Distribution - Count Plot')\n",
    "axs[0].set_xlabel('Label')\n",
    "axs[0].set_ylabel('Count')\n",
    "\n",
    "# Pie chart\n",
    "axs[1].pie(label_counts, labels=label_counts.index, autopct='%1.1f%%')\n",
    "axs[1].set_title('Label Distribution - Pie Chart')\n",
    "\n",
    "# Show both plots\n",
    "plt.tight_layout()\n",
    "plt.show()"
   ]
  },
  {
   "cell_type": "code",
   "execution_count": 12,
   "metadata": {},
   "outputs": [],
   "source": [
    "df.drop(columns=['index'], inplace=True)    "
   ]
  },
  {
   "cell_type": "markdown",
   "metadata": {},
   "source": [
    "### Data splitting"
   ]
  },
  {
   "attachments": {
    "image-2.png": {
     "image/png": "[encoded data removed]"
    },
    "image.png": {
     "image/png": "[encoded data removed]"
    }
   },
   "cell_type": "markdown",
   "metadata": {},
   "source": [
    "It is a good practice to split the data before EDA helps maintain the integrity of the machine learning process, prevents data leakage, simulates real-world scenarios more accurately, and ensures reliable model performance evaluation on unseen data.\n",
    "\n",
    "![image.png](attachment:image.png)\n",
    "<br>\n",
    "<B>-------------------------------------------------------------------------------------------------------------</B>\n",
    "<br>\n",
    "![image-2.png](attachment:image-2.png)"
   ]
  },
  {
   "cell_type": "code",
   "execution_count": 13,
   "metadata": {},
   "outputs": [],
   "source": [
    "x = df.drop(columns=['label'])\n",
    "y = df['label']"
   ]
  },
  {
   "cell_type": "code",
   "execution_count": 14,
   "metadata": {},
   "outputs": [],
   "source": [
    "# Making stratified samples to ensure that the distribution of labels is similar in the dataset\n",
    "def stratified_split(x, y, test_size=0.2, val_size=0.5, random_state=99):\n",
    "    x_train, x_temp, y_train, y_temp = train_test_split(\n",
    "        x, y, test_size=test_size, stratify=y, random_state=random_state)\n",
    "    x_val, x_test, y_val, y_test = train_test_split(\n",
    "        x_temp, y_temp, test_size=val_size, stratify=y_temp, random_state=random_state)\n",
    "    \n",
    "    return x_train, x_val, x_test, y_train, y_val, y_test"
   ]
  },
  {
   "cell_type": "code",
   "execution_count": 15,
   "metadata": {},
   "outputs": [],
   "source": [
    "x_train, x_valid, x_test, y_train, y_valid, y_test = stratified_split(x, y, test_size=0.2, val_size=0.5, random_state=99)"
   ]
  },
  {
   "cell_type": "code",
   "execution_count": 16,
   "metadata": {},
   "outputs": [
    {
     "name": "stdout",
     "output_type": "stream",
     "text": [
      "(23551, 1) (2944, 1) (2944, 1)\n"
     ]
    }
   ],
   "source": [
    "print(x_train.shape, x_valid.shape, x_test.shape)"
   ]
  },
  {
   "cell_type": "markdown",
   "metadata": {
    "id": "hqWVKi_GorxZ"
   },
   "source": [
    "### EDA & Preprocessing on training data"
   ]
  },
  {
   "cell_type": "markdown",
   "metadata": {
    "id": "YjIBFc35orxc"
   },
   "source": [
    "- show a representative sample of data texts to find out required preprocessing steps"
   ]
  },
  {
   "cell_type": "code",
   "execution_count": 17,
   "metadata": {
    "id": "zGFKzSCRorxc"
   },
   "outputs": [
    {
     "data": {
      "text/plain": [
       "array([['i am thankful for taxis. #thankful #positive'],\n",
       "       [\"ioc's bach 'happy' with new brazil president's commitment to rio: rio de janeiro (afp) - international...\"],\n",
       "       ['when will this #pms end?! i hate feeling my feelings of hatred. bleed vagina! just bleed! #girlproblems   #unfocused #tmi'],\n",
       "       ['@user @user @user @user i fought against both sides of the argument yesterday:'],\n",
       "       ['i lost a foune on the pougal vs iceland game, had some concerns when they announced the big line up changes, still so much lost  '],\n",
       "       ['#gogirl 10-17 #summer   #fun #wellbeing @user #cardiff #swansea book now pls'],\n",
       "       ['i am ecstatic. #i_am #positive #affirmation'],\n",
       "       ['@user yeah only 1 days to go #oneyearofhinaontwiteer   ð\\x9f\\x99\\x8cð\\x9f\\x99\\x8cð\\x9f\\x99\\x8cð\\x9f\\x99\\x8c'],\n",
       "       ['@user @user @user @user @user massive censorship'],\n",
       "       [' fathersdaymessage  #father\\'s #day #message #tie #| #zazzle buy things about \"hâ\\x80¦  ']],\n",
       "      dtype=object)"
      ]
     },
     "execution_count": 17,
     "metadata": {},
     "output_type": "execute_result"
    }
   ],
   "source": [
    "x_train.values[0:10]"
   ]
  },
  {
   "cell_type": "markdown",
   "metadata": {
    "id": "x3wl_crkorxd"
   },
   "source": [
    "- Cleaning and Preprocessing are:\n",
    "    - 1 applying lowercase \n",
    "    - 2 remove stop words \n",
    "    - 3 applying (Removing newlines and tabs - Removing URLs - Removing punctuations - Removing contractions (like i'm) - Characters normalization\n",
    "                  Removing usernames & tags - Removing emojis - Removing numbers - Removing extra whitespaces ) \n",
    "    - 4 Tokenization\n",
    "    - 5 Lemmatization\n"
   ]
  },
  {
   "cell_type": "code",
   "execution_count": 18,
   "metadata": {},
   "outputs": [],
   "source": [
    "def text_preprocessing(text):\n",
    "    stop_words = set(stopwords.words('english'))\n",
    "    lemmatizer = WordNetLemmatizer()\n",
    "\n",
    "    # Normalize characters\n",
    "    text = unicodedata.normalize('NFKD', text).encode('ASCII', 'ignore').decode('utf-8')\n",
    "    \n",
    "    # Lowercase\n",
    "    text = text.lower()\n",
    "\n",
    "    # Expand contractions\n",
    "    contractions = {\n",
    "        \"can't\": \"can not\", \"won't\": \"will not\", \"n't\": \" not\", \"'re\": \" are\",\n",
    "        \"'s\": \" is\", \"'d\": \" would\", \"'ll\": \" will\", \"'t\": \" not\", \"'ve\": \" have\", \"'m\": \" am\"\n",
    "    }\n",
    "    for pattern, repl in contractions.items():\n",
    "        text = re.sub(pattern, repl, text)\n",
    "\n",
    "    # Remove URLs, usernames, hashtags, emojis, punctuation, numbers\n",
    "    text = re.sub(r'http\\S+|www\\S+|https\\S+', '', text)\n",
    "    text = re.sub(r'@[^\\s]+', '', text)\n",
    "    text = re.sub(r'#', '', text)\n",
    "    text = emoji.replace_emoji(text, replace='')\n",
    "    text = re.sub(r'[^\\w\\s]', '', text)\n",
    "    text = re.sub(r'\\d+', '', text)\n",
    "\n",
    "    # Remove newlines/tabs, extra whitespaces\n",
    "    text = text.replace('\\n', ' ').replace('\\t', ' ')\n",
    "    text = re.sub(r'\\s+', ' ', text).strip()\n",
    "\n",
    "    # Tokenize\n",
    "    tokens = word_tokenize(text)\n",
    "\n",
    "    # Remove stopwords and lemmatize\n",
    "    tokens = [lemmatizer.lemmatize(token) for token in tokens if token not in stop_words]\n",
    "\n",
    "    # Join back into string\n",
    "    text = ' '.join(tokens)\n",
    "\n",
    "    return text"
   ]
  },
  {
   "cell_type": "code",
   "execution_count": 19,
   "metadata": {},
   "outputs": [],
   "source": [
    "# x_train['tweet'] = x_train['tweet'].apply(text_preprocessing)\n",
    "# x_train\n",
    "\n",
    "# df['tweet'] = df['tweet'].apply(text_preprocessing)\n",
    "# # save preprocessed data\n",
    "# df.to_csv('../Data/preprocessed_data.csv', index=False)"
   ]
  },
  {
   "cell_type": "markdown",
   "metadata": {
    "id": "XyJkqK9gorxe"
   },
   "source": [
    "### Cleaning and Preprocessing"
   ]
  },
  {
   "cell_type": "markdown",
   "metadata": {
    "tags": []
   },
   "source": [
    "#### Extra: use custom scikit-learn Transformers"
   ]
  },
  {
   "cell_type": "markdown",
   "metadata": {},
   "source": [
    "Using custom transformers in scikit-learn provides flexibility, reusability, and control over the data transformation process, allowing you to seamlessly integrate with scikit-learn's pipelines, enabling you to combine multiple preprocessing steps and modeling into a single workflow. This makes your code more modular, readable, and easier to maintain."
   ]
  },
  {
   "cell_type": "markdown",
   "metadata": {
    "tags": []
   },
   "source": [
    "##### link: https://www.andrewvillazon.com/custom-scikit-learn-transformers/"
   ]
  },
  {
   "attachments": {
    "image.png": {
     "image/png": "[encoded data removed]"
    }
   },
   "cell_type": "markdown",
   "metadata": {},
   "source": [
    "#### Example usage:\n",
    "\n",
    "![image.png](attachment:image.png)"
   ]
  },
  {
   "cell_type": "code",
   "execution_count": 20,
   "metadata": {
    "id": "GVjzzLhworxe"
   },
   "outputs": [],
   "source": [
    "from sklearn.base import BaseEstimator, TransformerMixin\n",
    "\n",
    "class TextPreprocessor(BaseEstimator, TransformerMixin):\n",
    "    # No fitting needed in preprocessing, just return self\n",
    "    def fit(self, X, y=None):\n",
    "        return self\n",
    "    \n",
    "    def transform(self, X):\n",
    "        return X['tweet'].apply(text_preprocessing)    \n"
   ]
  },
  {
   "cell_type": "markdown",
   "metadata": {},
   "source": [
    "<B>Applying Feature Extraction (Vectorization)</B>"
   ]
  },
  {
   "cell_type": "code",
   "execution_count": 21,
   "metadata": {
    "id": "u2EYQvrBorxf"
   },
   "outputs": [],
   "source": [
    "from sklearn.base import BaseEstimator, TransformerMixin\n",
    "from sklearn.feature_extraction.text import CountVectorizer, TfidfVectorizer\n",
    "import numpy as np\n",
    "from nltk.tokenize import word_tokenize\n",
    "\n",
    "class UnifiedTextVectorizer(BaseEstimator, TransformerMixin):\n",
    "    def __init__(self, method='count', embedding_model=None, embedding_dim=300,\n",
    "                 min_df=1, max_df=1.0, ngram_range=(1, 1), min_count=1):\n",
    "        self.method = method\n",
    "        self.embedding_model = embedding_model\n",
    "        self.embedding_dim = embedding_dim\n",
    "        self.min_df = min_df\n",
    "        self.max_df = max_df\n",
    "        self.ngram_range = ngram_range\n",
    "        self.min_count = min_count\n",
    "        \n",
    "        self.vectorizer = None\n",
    "\n",
    "    def fit(self, X, y=None):\n",
    "        if self.method in ['count', 'tfidf']:\n",
    "            VectorizerClass = CountVectorizer if self.method == 'count' else TfidfVectorizer\n",
    "            self.vectorizer = VectorizerClass(\n",
    "                min_df=self.min_df,\n",
    "                max_df=self.max_df,\n",
    "                ngram_range=self.ngram_range\n",
    "            )\n",
    "            self.vectorizer.fit(X)\n",
    "        return self\n",
    "\n",
    "    def transform(self, X):\n",
    "        if self.method in ['count', 'tfidf']:\n",
    "            return self.vectorizer.transform(X)\n",
    "\n",
    "        elif self.method in ['word2vec', 'glove', 'fasttext']:\n",
    "            return np.array([self._embed_text(doc) for doc in X])\n",
    "\n",
    "        else:\n",
    "            raise ValueError(f\"Unsupported method: {self.method}\")\n",
    "\n",
    "    def _embed_text(self, text):\n",
    "        tokens = word_tokenize(text)\n",
    "        if hasattr(self.embedding_model, 'get_word_vector'):\n",
    "            vectors = [self.embedding_model.get_word_vector(word)\n",
    "                       for word in tokens if word.strip() != '']\n",
    "        else:\n",
    "            vectors = [self.embedding_model[word]\n",
    "                       for word in tokens if word in self.embedding_model]\n",
    "\n",
    "        if vectors:\n",
    "            return np.mean(vectors, axis=0)\n",
    "        else:\n",
    "            return np.zeros(self.embedding_dim)\n"
   ]
  },
  {
   "cell_type": "code",
   "execution_count": 22,
   "metadata": {},
   "outputs": [],
   "source": [
    "from gensim.models import Word2Vec\n",
    "from nltk.tokenize import word_tokenize\n",
    "from gensim.models import KeyedVectors\n",
    "from gensim.scripts.glove2word2vec import glove2word2vec\n",
    "import os\n",
    "\n",
    "\n",
    "def tokenize_texts(text_series):\n",
    "    return [word_tokenize(text.lower()) for text in text_series]\n",
    "\n",
    "\n",
    "def train_word2vec(tokenized_text, vector_size=100, window=5, min_count=2, workers=4, epochs=10):\n",
    "    model = Word2Vec(\n",
    "        sentences=tokenized_text,\n",
    "        vector_size=vector_size,\n",
    "        window=window,\n",
    "        min_count=min_count,\n",
    "        workers=workers,\n",
    "        epochs=epochs\n",
    "    )\n",
    "    return model.wv  # return the KeyedVectors only (lightweight)\n",
    "\n"
   ]
  },
  {
   "cell_type": "code",
   "execution_count": 152,
   "metadata": {},
   "outputs": [],
   "source": [
    "# tokenize_text = tokenize_texts(x_train['tweet'])\n",
    "\n",
    "\n",
    "#                       (word2vec)\n",
    "# word2vec_model = train_word2vec(tokenize_text, vector_size=100, window=5, min_count=2, workers=4, epochs=10)\n",
    "\n",
    "# saving the Embeddings to use it in the pipeline\n",
    "# word2vec_model.save_word2vec_format(\"word2vec.txt\", binary=False)\n"
   ]
  },
  {
   "cell_type": "markdown",
   "metadata": {
    "id": "R9BhRQbYorxf"
   },
   "source": [
    "### Modelling"
   ]
  },
  {
   "cell_type": "markdown",
   "metadata": {
    "id": "Au1FYDPzorxg"
   },
   "source": [
    "#### Extra: use scikit-learn pipline"
   ]
  },
  {
   "cell_type": "markdown",
   "metadata": {},
   "source": [
    "##### link: https://scikit-learn.org/stable/modules/generated/sklearn.pipeline.Pipeline.html"
   ]
  },
  {
   "cell_type": "markdown",
   "metadata": {},
   "source": [
    "Using pipelines in scikit-learn promotes better code organization, reproducibility, and efficiency in machine learning workflows."
   ]
  },
  {
   "cell_type": "markdown",
   "metadata": {
    "id": "LP5FZzmborxg"
   },
   "source": [
    "#### Example usage:"
   ]
  },
  {
   "cell_type": "code",
   "execution_count": 153,
   "metadata": {},
   "outputs": [],
   "source": [
    "from gensim.models import KeyedVectors\n",
    "from gensim.scripts.glove2word2vec import glove2word2vec\n",
    "\n",
    "\n",
    "# load word2vec model\n",
    "word2vec_model = KeyedVectors.load_word2vec_format(r\"C:\\Users\\aliay\\OneDrive\\Desktop\\iTi\\27 - NLP\\Hate-Speech-Classification\\models\\word2vec.txt\", binary=False)\n",
    "\n",
    "\n",
    "# convert GloVe to Word2Vec format to read it into gensim\n",
    "# glove_input_file = r\"C:\\Users\\aliay\\OneDrive\\Desktop\\iTi\\27 - NLP\\Hate-Speech-Classification\\models\\glove.6B.100d.txt\"\n",
    "word2vec_output_file = r\"C:\\Users\\aliay\\OneDrive\\Desktop\\iTi\\27 - NLP\\Hate-Speech-Classification\\models\\glove.6B.100d.word2vec.txt\"\n",
    "\n",
    "# glove2word2vec(glove_input_file, word2vec_output_file)\n",
    "Glove_model = KeyedVectors.load_word2vec_format(word2vec_output_file, binary=False)\n",
    "\n",
    "# Load the FastText model \n",
    "fasttext_model = KeyedVectors.load_word2vec_format(r'C:\\Users\\aliay\\OneDrive\\Desktop\\iTi\\27 - NLP\\Hate-Speech-Classification\\models\\wiki-news-300d-1M.vec', binary=False)\n",
    "\n"
   ]
  },
  {
   "cell_type": "code",
   "execution_count": 23,
   "metadata": {
    "tags": []
   },
   "outputs": [],
   "source": [
    "from sklearn.pipeline import Pipeline\n",
    "from sklearn.linear_model import LogisticRegression\n",
    "from sklearn.ensemble import RandomForestClassifier\n",
    "from scipy.stats import uniform \n",
    "\n",
    "pipe = Pipeline([\n",
    "    ('preprocess', TextPreprocessor()),\n",
    "    ('vectorize', UnifiedTextVectorizer(method='tfidf')),      # default, will override in params\n",
    "    ('clf', LogisticRegression())                              # default, will override in params\n",
    "])\n",
    "\n",
    "\n",
    "models = {\n",
    "    'LogisticRegression': (LogisticRegression(solver='liblinear'), {\n",
    "        'clf__C': uniform(0.01, 10),\n",
    "        'clf__class_weight': [None, 'balanced']\n",
    "    }),\n",
    "    'RandomForest': (RandomForestClassifier(), {\n",
    "        'clf__n_estimators': [100, 200],\n",
    "        'clf__max_depth': [10, 20, None],\n",
    "        'clf__class_weight': [None, 'balanced'],\n",
    "        'clf__ngram_range': [(1, 1), (1, 3)]\n",
    "    })\n",
    "}   \n"
   ]
  },
  {
   "cell_type": "markdown",
   "metadata": {
    "id": "85JlkIQXorxg"
   },
   "source": [
    "#### Evaluation"
   ]
  },
  {
   "cell_type": "markdown",
   "metadata": {},
   "source": [
    "**Evaluation metric:**\n",
    "macro f1 score\n",
    "\n",
    "Macro F1 score is a useful metric in scenarios where you want to evaluate the overall performance of a multi-class classification model, **particularly when the classes are imbalanced**"
   ]
  },
  {
   "cell_type": "markdown",
   "metadata": {},
   "source": [
    "![Calculation](https://assets-global.website-files.com/5d7b77b063a9066d83e1209c/639c3d934e82c1195cdf3c60_macro-f1.webp)"
   ]
  },
  {
   "cell_type": "code",
   "execution_count": null,
   "metadata": {},
   "outputs": [
    {
     "name": "stdout",
     "output_type": "stream",
     "text": [
      "Running model: LogisticRegression\n",
      "Fitting 5 folds for each of 10 candidates, totalling 50 fits\n",
      "Best score for LogisticRegression: 0.8086590959627372\n",
      "Best params: {'clf__C': 6.732785586307918, 'clf__class_weight': 'balanced'}\n",
      "Running model: RandomForest\n",
      "Fitting 5 folds for each of 10 candidates, totalling 50 fits\n",
      "Best score for RandomForest: 0.7879960392520491\n",
      "Best params: {'clf__n_estimators': 100, 'clf__max_depth': None, 'clf__class_weight': None}\n"
     ]
    }
   ],
   "source": [
    "from sklearn.model_selection import RandomizedSearchCV\n",
    "from sklearn.metrics import make_scorer, f1_score\n",
    "\n",
    "for model_name, (model, params) in models.items():\n",
    "    print(f\"Running model: {model_name}\")\n",
    "    \n",
    "    pipe.set_params(clf=model)\n",
    "    \n",
    "    search = RandomizedSearchCV(\n",
    "        pipe,\n",
    "        param_distributions=params,\n",
    "        n_iter=10,\n",
    "        scoring=make_scorer(f1_score, average='macro'),\n",
    "        cv=5,\n",
    "        verbose=1,\n",
    "        random_state=99\n",
    "    )\n",
    "    \n",
    "    search.fit(x_train, y_train)\n",
    "    \n",
    "    print(f\"Best score for {model_name}: {search.best_score_}\")\n",
    "    print(f\"Best params: {search.best_params_}\")\n"
   ]
  },
  {
   "cell_type": "code",
   "execution_count": null,
   "metadata": {},
   "outputs": [],
   "source": [
    "y_pred = search.predict(x_test)"
   ]
  },
  {
   "cell_type": "markdown",
   "metadata": {},
   "source": [
    "<!-- Random >> 84 >>> tfidf -->"
   ]
  },
  {
   "cell_type": "code",
   "execution_count": null,
   "metadata": {},
   "outputs": [
    {
     "name": "stdout",
     "output_type": "stream",
     "text": [
      "Best Parameters: Pipeline(steps=[('preprocess', TextPreprocessor()),\n",
      "                ('vectorize', UnifiedTextVectorizer(method='tfidf')),\n",
      "                ('clf', RandomForestClassifier())])\n",
      "Accuracy: 0.9605217988328184\n",
      "Precision: 0.9227142996140498\n",
      "Recall: 0.7413236040186193\n",
      "F1 Score: 0.8034935266281977\n"
     ]
    }
   ],
   "source": [
    "# evaluation\n",
    "print(\"Best Parameters:\", search.best_estimator_)  \n",
    "from sklearn.metrics import accuracy_score, precision_score, recall_score, f1_score\n",
    "\n",
    "accuracy = accuracy_score(y_test, y_pred)\n",
    "precision = precision_score(y_test, y_pred, average='macro')\n",
    "recall = recall_score(y_test, y_pred, average='macro')\n",
    "f1 = f1_score(y_test, y_pred, average='macro')\n",
    "\n",
    "print(\"Accuracy:\", accuracy)\n",
    "print(\"Precision:\", precision)\n",
    "print(\"Recall:\", recall)\n",
    "print(\"F1 Score:\", f1)"
   ]
  },
  {
   "cell_type": "markdown",
   "metadata": {},
   "source": [
    "### Conclusion and final results\n"
   ]
  },
  {
   "cell_type": "code",
   "execution_count": null,
   "metadata": {},
   "outputs": [],
   "source": [
    "# method='tfidf', min_df=2,min_count=2, max_df=0.9, ngram_range=(1, 3)\n",
    "# n_estimators=500, max_depth=None, class_weight='balanced')"
   ]
  },
  {
   "cell_type": "code",
   "execution_count": 156,
   "metadata": {},
   "outputs": [],
   "source": [
    "from sklearn.model_selection import RandomizedSearchCV\n",
    "from sklearn.metrics import make_scorer, f1_score , accuracy_score, precision_score, recall_score"
   ]
  },
  {
   "cell_type": "code",
   "execution_count": 176,
   "metadata": {},
   "outputs": [],
   "source": [
    "# make a random forest model with these params  \n",
    "pipe = Pipeline([\n",
    "    ('preprocess', TextPreprocessor()),\n",
    "    ('vectorize', UnifiedTextVectorizer(method='tfidf', min_df=2,min_count=2, max_df=0.9, ngram_range=(1, 3))),\n",
    "    ('clf', RandomForestClassifier(n_estimators=400, max_depth=None, class_weight='balanced'))\n",
    "])\n",
    "\n",
    "pipe.fit(x_train, y_train)\n",
    "y_pred = pipe.predict(x_test)\n"
   ]
  },
  {
   "cell_type": "code",
   "execution_count": 177,
   "metadata": {},
   "outputs": [
    {
     "name": "stdout",
     "output_type": "stream",
     "text": [
      "Accuracy: 0.9476902173913043\n",
      "Precision: 0.880176161061542\n",
      "Recall: 0.712969786293294\n",
      "F1 Score: 0.7685718894394998\n"
     ]
    }
   ],
   "source": [
    "accuracy = accuracy_score(y_test, y_pred)\n",
    "precision = precision_score(y_test, y_pred, average='macro')    \n",
    "recall = recall_score(y_test, y_pred, average='macro')\n",
    "f1 = f1_score(y_test, y_pred, average='macro')\n",
    "\n",
    "print(\"Accuracy:\", accuracy)\n",
    "print(\"Precision:\", precision)\n",
    "print(\"Recall:\", recall)\n",
    "print(\"F1 Score:\", f1)"
   ]
  },
  {
   "cell_type": "code",
   "execution_count": 178,
   "metadata": {},
   "outputs": [
    {
     "name": "stdout",
     "output_type": "stream",
     "text": [
      "              precision    recall  f1-score   support\n",
      "\n",
      "           0       0.95      0.99      0.97      2714\n",
      "           1       0.81      0.43      0.56       230\n",
      "\n",
      "    accuracy                           0.95      2944\n",
      "   macro avg       0.88      0.71      0.77      2944\n",
      "weighted avg       0.94      0.95      0.94      2944\n",
      "\n"
     ]
    }
   ],
   "source": [
    "# get the classification report\n",
    "from sklearn.metrics import classification_report\n",
    "print(classification_report(y_test, y_pred))"
   ]
  },
  {
   "cell_type": "code",
   "execution_count": null,
   "metadata": {},
   "outputs": [],
   "source": [
    "# the best model for me and i will use it for deployment \n",
    "pipe = Pipeline([\n",
    "    ('preprocess', TextPreprocessor()),\n",
    "    ('vectorize', UnifiedTextVectorizer(method='tfidf', min_df=2,min_count=2, max_df=0.9, ngram_range=(1, 3))),\n",
    "    ('clf', LogisticRegression(solver='liblinear', class_weight='balanced'))\n",
    "])\n",
    "\n",
    "pipe.fit(x_train, y_train)\n",
    "y_pred = pipe.predict(x_test)"
   ]
  },
  {
   "cell_type": "code",
   "execution_count": 198,
   "metadata": {},
   "outputs": [
    {
     "name": "stdout",
     "output_type": "stream",
     "text": [
      "              precision    recall  f1-score   support\n",
      "\n",
      "           0       0.98      0.95      0.96      2714\n",
      "           1       0.55      0.79      0.65       230\n",
      "\n",
      "    accuracy                           0.93      2944\n",
      "   macro avg       0.77      0.87      0.81      2944\n",
      "weighted avg       0.95      0.93      0.94      2944\n",
      "\n"
     ]
    }
   ],
   "source": [
    "# get the classification report\n",
    "from sklearn.metrics import classification_report\n",
    "print(classification_report(y_test, y_pred))"
   ]
  },
  {
   "cell_type": "code",
   "execution_count": 200,
   "metadata": {},
   "outputs": [
    {
     "name": "stdout",
     "output_type": "stream",
     "text": [
      "Accuracy: 0.9330842391304348\n",
      "Precision: 0.7657069629853488\n",
      "Recall: 0.8662122328666175\n",
      "F1 Score: 0.8053087185216343\n",
      "[1]\n",
      "Confidence: 75.36 %\n"
     ]
    }
   ],
   "source": [
    "accuracy = accuracy_score(y_test, y_pred)\n",
    "precision = precision_score(y_test, y_pred, average='macro')    \n",
    "recall = recall_score(y_test, y_pred, average='macro')\n",
    "f1 = f1_score(y_test, y_pred, average='macro')\n",
    "\n",
    "print(\"Accuracy:\", accuracy)\n",
    "print(\"Precision:\", precision)\n",
    "print(\"Recall:\", recall)\n",
    "print(\"F1 Score:\", f1)\n",
    "\n",
    "# Test the loaded model with some data\n",
    "sample_text = [\"I fucking hate you\"]\n",
    "text = pd.DataFrame({'tweet':sample_text})\n",
    "prediction = pipe.predict(text)\n",
    "\n",
    "print(prediction)\n",
    "print(\"Confidence:\", round(max(pipe.predict_proba(text)[0]) * 100, 2), \"%\")\n"
   ]
  },
  {
   "cell_type": "code",
   "execution_count": null,
   "metadata": {},
   "outputs": [],
   "source": [
    "import pickle\n",
    "# save the model to disk\n",
    "filename = 'finalized_model.pkl'\n",
    "pickle.dump(pipe, open('../production_model/' + filename, 'wb'))"
   ]
  },
  {
   "cell_type": "code",
   "execution_count": 203,
   "metadata": {},
   "outputs": [
    {
     "name": "stdout",
     "output_type": "stream",
     "text": [
      "[0]\n"
     ]
    }
   ],
   "source": [
    "import joblib\n",
    "\n",
    "# Load the saved pipeline\n",
    "loaded_pipe = joblib.load('../production_model/finalized_model.pkl')\n",
    "\n",
    "# Test the loaded model with some data\n",
    "sample_text = [\"I bad this!\"]\n",
    "text = pd.DataFrame({'tweet':sample_text})\n",
    "prediction = loaded_pipe.predict(text)\n",
    "print(prediction)"
   ]
  },
  {
   "cell_type": "markdown",
   "metadata": {
    "id": "Nw1GVnYLorxi"
   },
   "source": [
    "#### Done!"
   ]
  }
 ],
 "metadata": {
  "colab": {
   "provenance": []
  },
  "kernelspec": {
   "display_name": "env",
   "language": "python",
   "name": "python3"
  },
  "language_info": {
   "codemirror_mode": {
    "name": "ipython",
    "version": 3
   },
   "file_extension": ".py",
   "mimetype": "text/x-python",
   "name": "python",
   "nbconvert_exporter": "python",
   "pygments_lexer": "ipython3",
   "version": "3.9.0"
  }
 },
 "nbformat": 4,
 "nbformat_minor": 4
}
